{
 "cells": [
  {
   "cell_type": "markdown",
   "id": "b7d724f5-7b3d-4c2b-8d05-e7d17e4517a3",
   "metadata": {},
   "source": [
    "## CREATING AND DISPLAYING 1D ARRAY"
   ]
  },
  {
   "cell_type": "code",
   "execution_count": 1,
   "id": "fb1d889a-8059-4d0a-82e2-3b2eb94e23e1",
   "metadata": {},
   "outputs": [],
   "source": [
    "import numpy as np\n",
    "arr = np.array([1, 2, 3, 4, 5])"
   ]
  },
  {
   "cell_type": "markdown",
   "id": "8b1f1dcd-3855-421a-a611-3edcd19a6807",
   "metadata": {},
   "source": [
    "**Displaying the 1D array**"
   ]
  },
  {
   "cell_type": "code",
   "execution_count": 2,
   "id": "c31df8e6-f198-48b3-b19d-fe7ef4d39f70",
   "metadata": {},
   "outputs": [
    {
     "name": "stdout",
     "output_type": "stream",
     "text": [
      "1\n",
      "2\n",
      "3\n",
      "4\n",
      "5\n"
     ]
    }
   ],
   "source": [
    "for item in arr:\n",
    "    print(item)"
   ]
  },
  {
   "cell_type": "markdown",
   "id": "aa1ff118-b761-4beb-8cf5-416d28a9254a",
   "metadata": {},
   "source": [
    "**To display on the same line:**"
   ]
  },
  {
   "cell_type": "code",
   "execution_count": 3,
   "id": "5b03a6c4-2c2a-415c-aa9f-194f2e3d1546",
   "metadata": {},
   "outputs": [
    {
     "name": "stdout",
     "output_type": "stream",
     "text": [
      "1 2 3 4 5 "
     ]
    }
   ],
   "source": [
    "for item in arr:\n",
    "    print(item, end=\" \")"
   ]
  },
  {
   "cell_type": "code",
   "execution_count": null,
   "id": "2f959d69-5eee-403b-84a8-3586d52cd66b",
   "metadata": {},
   "outputs": [],
   "source": []
  }
 ],
 "metadata": {
  "kernelspec": {
   "display_name": "Python 3 (ipykernel)",
   "language": "python",
   "name": "python3"
  },
  "language_info": {
   "codemirror_mode": {
    "name": "ipython",
    "version": 3
   },
   "file_extension": ".py",
   "mimetype": "text/x-python",
   "name": "python",
   "nbconvert_exporter": "python",
   "pygments_lexer": "ipython3",
   "version": "3.11.7"
  }
 },
 "nbformat": 4,
 "nbformat_minor": 5
}
