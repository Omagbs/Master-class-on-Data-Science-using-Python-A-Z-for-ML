{
 "cells": [
  {
   "cell_type": "markdown",
   "id": "7948aee3-07ab-4a99-83ad-5b8202d0a31c",
   "metadata": {},
   "source": [
    "# Trace of a Matrix"
   ]
  },
  {
   "cell_type": "markdown",
   "id": "cccdd6f9-9093-40da-957b-efb407d04666",
   "metadata": {},
   "source": [
    "Trace of a Matrix is simply the summation of the diagonal of a given matrix. The function **trace()** and **sum(arr.diagonal())** can be used"
   ]
  },
  {
   "cell_type": "code",
   "execution_count": 2,
   "id": "f713d65c-8563-499c-b014-62a1fa5027c0",
   "metadata": {},
   "outputs": [
    {
     "name": "stdout",
     "output_type": "stream",
     "text": [
      "The Array is:  [[1 2 3]\n",
      " [4 5 6]\n",
      " [7 8 9]]\n"
     ]
    }
   ],
   "source": [
    "import numpy as np\n",
    "arr = np.array([[1, 2, 3], [4, 5, 6], [7, 8, 9]])\n",
    "print(\"The Array is: \", arr)"
   ]
  },
  {
   "cell_type": "markdown",
   "id": "1ee23374-a20f-49c6-92aa-8008446ecf58",
   "metadata": {},
   "source": [
    "**Using Trace()**"
   ]
  },
  {
   "cell_type": "code",
   "execution_count": 3,
   "id": "28d0352a-f6cc-4995-8910-34367158c226",
   "metadata": {},
   "outputs": [
    {
     "name": "stdout",
     "output_type": "stream",
     "text": [
      "The sum of the diagonals is:  15\n"
     ]
    }
   ],
   "source": [
    "print(\"The sum of the diagonals is: \", arr.trace())"
   ]
  },
  {
   "cell_type": "markdown",
   "id": "a6230078-a46b-41a0-b858-6e742a684756",
   "metadata": {},
   "source": [
    "**Using Sum(arr.diagonal())**"
   ]
  },
  {
   "cell_type": "code",
   "execution_count": 4,
   "id": "79ea38f8-52c5-4538-b0ac-5fa6ecce2e3c",
   "metadata": {},
   "outputs": [
    {
     "name": "stdout",
     "output_type": "stream",
     "text": [
      "The sum of the diagonals is:  15\n"
     ]
    }
   ],
   "source": [
    "print(\"The sum of the diagonals is: \", sum(arr.diagonal()))"
   ]
  },
  {
   "cell_type": "code",
   "execution_count": null,
   "id": "78ca4957-5208-48d0-a04c-f3478db189b4",
   "metadata": {},
   "outputs": [],
   "source": []
  }
 ],
 "metadata": {
  "kernelspec": {
   "display_name": "Python 3 (ipykernel)",
   "language": "python",
   "name": "python3"
  },
  "language_info": {
   "codemirror_mode": {
    "name": "ipython",
    "version": 3
   },
   "file_extension": ".py",
   "mimetype": "text/x-python",
   "name": "python",
   "nbconvert_exporter": "python",
   "pygments_lexer": "ipython3",
   "version": "3.11.7"
  }
 },
 "nbformat": 4,
 "nbformat_minor": 5
}
