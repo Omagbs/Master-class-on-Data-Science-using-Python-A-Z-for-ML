{
 "cells": [
  {
   "cell_type": "markdown",
   "id": "dbc68473-cd0d-43c7-949a-e3c97e99f28a",
   "metadata": {},
   "source": [
    "# Creating Array of 0's and Arrays of 1's"
   ]
  },
  {
   "cell_type": "markdown",
   "id": "641a7bfe-116d-4eb7-b702-512caf19682f",
   "metadata": {},
   "source": [
    "**Creating an array with five zero values**"
   ]
  },
  {
   "cell_type": "code",
   "execution_count": 2,
   "id": "5773b869-6167-4f44-ac5e-31aaaa9297ed",
   "metadata": {},
   "outputs": [
    {
     "name": "stdout",
     "output_type": "stream",
     "text": [
      "[0. 0. 0. 0. 0.]\n"
     ]
    }
   ],
   "source": [
    "import numpy as np\n",
    "k = np.zeros(5)\n",
    "print(k)"
   ]
  },
  {
   "cell_type": "markdown",
   "id": "63745cee-666b-4237-bc38-ab908f231b26",
   "metadata": {},
   "source": [
    "**Creating an array with five one values**"
   ]
  },
  {
   "cell_type": "code",
   "execution_count": 3,
   "id": "82544e77-b6e1-4a8a-a1dc-d60f75c2a65f",
   "metadata": {},
   "outputs": [
    {
     "name": "stdout",
     "output_type": "stream",
     "text": [
      "[1. 1. 1. 1. 1.]\n"
     ]
    }
   ],
   "source": [
    "n = np.ones(5)\n",
    "print(n)"
   ]
  },
  {
   "cell_type": "code",
   "execution_count": null,
   "id": "ae14abee-f60c-4ae8-bb1a-8156f3058ee6",
   "metadata": {},
   "outputs": [],
   "source": []
  }
 ],
 "metadata": {
  "kernelspec": {
   "display_name": "Python 3 (ipykernel)",
   "language": "python",
   "name": "python3"
  },
  "language_info": {
   "codemirror_mode": {
    "name": "ipython",
    "version": 3
   },
   "file_extension": ".py",
   "mimetype": "text/x-python",
   "name": "python",
   "nbconvert_exporter": "python",
   "pygments_lexer": "ipython3",
   "version": "3.11.7"
  }
 },
 "nbformat": 4,
 "nbformat_minor": 5
}
