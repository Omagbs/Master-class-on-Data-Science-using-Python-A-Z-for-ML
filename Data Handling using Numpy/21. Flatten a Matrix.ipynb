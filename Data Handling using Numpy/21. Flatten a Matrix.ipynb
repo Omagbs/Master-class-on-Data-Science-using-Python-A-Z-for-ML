{
 "cells": [
  {
   "cell_type": "markdown",
   "id": "3162221b-57df-4d93-9edf-4c6bbcae00a6",
   "metadata": {},
   "source": [
    "# Flatten a Matrix"
   ]
  },
  {
   "cell_type": "markdown",
   "id": "a6b02ef9-8c26-4052-a214-8b8fc9fa4aa8",
   "metadata": {},
   "source": [
    "Flattening of a matrix is a simple method that transforms a matrix of >1D array into a 1D numpy array. The **flatten()** is used"
   ]
  },
  {
   "cell_type": "code",
   "execution_count": null,
   "id": "78214412-415c-4b0a-baac-1afc8728c095",
   "metadata": {},
   "outputs": [],
   "source": [
    "import numpy as np\n",
    "arr = np.array([[1, 2, 3], [4, 5, 6], [7, 8, 9]])\n",
    "print(\"The array to be flattened:"
   ]
  }
 ],
 "metadata": {
  "kernelspec": {
   "display_name": "Python 3 (ipykernel)",
   "language": "python",
   "name": "python3"
  },
  "language_info": {
   "codemirror_mode": {
    "name": "ipython",
    "version": 3
   },
   "file_extension": ".py",
   "mimetype": "text/x-python",
   "name": "python",
   "nbconvert_exporter": "python",
   "pygments_lexer": "ipython3",
   "version": "3.11.7"
  }
 },
 "nbformat": 4,
 "nbformat_minor": 5
}
