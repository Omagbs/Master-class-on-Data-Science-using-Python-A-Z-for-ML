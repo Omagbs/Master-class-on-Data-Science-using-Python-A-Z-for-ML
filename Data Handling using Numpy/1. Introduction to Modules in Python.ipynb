{
 "cells": [
  {
   "cell_type": "markdown",
   "id": "e49c5a21-d341-46f5-ad2e-486e5d0ed980",
   "metadata": {},
   "source": [
    "# INTRODUCTION TO MODULES IN PYTHON\n",
    "A module is a file containing python definitions and statement\n",
    "\n",
    "## Import statement\n",
    "- You can import everything from Module for immediate use\n",
    "- You can import certain named variables and functions from a module\n",
    "- Import everything from module and also require that variable and function to be prefacedby by either the module name or the alias"
   ]
  },
  {
   "cell_type": "markdown",
   "id": "f31aa50a-e72c-4889-9141-d0a4be19815c",
   "metadata": {},
   "source": [
    "**Example 1**"
   ]
  },
  {
   "cell_type": "code",
   "execution_count": 2,
   "id": "ac5c3dfa-c430-44a3-a3a6-0f8b243f783e",
   "metadata": {},
   "outputs": [
    {
     "name": "stdout",
     "output_type": "stream",
     "text": [
      "3.141592653589793\n"
     ]
    }
   ],
   "source": [
    "from math import pi\n",
    "print(pi)"
   ]
  },
  {
   "cell_type": "markdown",
   "id": "fe9a1678-52eb-475b-9f97-34638eec88f3",
   "metadata": {},
   "source": [
    "In example 1, I imported just the pi from the math module."
   ]
  },
  {
   "cell_type": "markdown",
   "id": "cdebee8b-0354-4b2a-b32f-391f43ed1273",
   "metadata": {},
   "source": [
    "**Example 2**"
   ]
  },
  {
   "cell_type": "code",
   "execution_count": 3,
   "id": "f267b433-a713-48d9-9164-d9fce3f12a8e",
   "metadata": {},
   "outputs": [
    {
     "name": "stdout",
     "output_type": "stream",
     "text": [
      "2.718281828459045\n"
     ]
    }
   ],
   "source": [
    "from math import *\n",
    "print(e)"
   ]
  },
  {
   "cell_type": "markdown",
   "id": "30121461-bb64-45f8-9255-440f0763a13c",
   "metadata": {},
   "source": [
    "For example 2, eveything from the math module was imported"
   ]
  },
  {
   "cell_type": "markdown",
   "id": "c0932552-3d38-42fa-a4cb-a8a87a2a355b",
   "metadata": {},
   "source": [
    "**Example 3**"
   ]
  },
  {
   "cell_type": "code",
   "execution_count": 4,
   "id": "6725c4d7-a4be-4ffe-9b41-ca2f2a22c980",
   "metadata": {},
   "outputs": [
    {
     "name": "stdout",
     "output_type": "stream",
     "text": [
      "1.0\n"
     ]
    }
   ],
   "source": [
    "import numpy as np\n",
    "print(np.cos(0))"
   ]
  },
  {
   "cell_type": "markdown",
   "id": "fadc587a-7f02-4216-901d-6c58bd8f752b",
   "metadata": {},
   "source": [
    "lastly, in example 3, everything in numpy can be used even though it's prefaced by the alias: \"np\""
   ]
  },
  {
   "cell_type": "code",
   "execution_count": null,
   "id": "22ae1ee5-9465-4014-8e93-6402e3a455ea",
   "metadata": {},
   "outputs": [],
   "source": []
  }
 ],
 "metadata": {
  "kernelspec": {
   "display_name": "Python 3 (ipykernel)",
   "language": "python",
   "name": "python3"
  },
  "language_info": {
   "codemirror_mode": {
    "name": "ipython",
    "version": 3
   },
   "file_extension": ".py",
   "mimetype": "text/x-python",
   "name": "python",
   "nbconvert_exporter": "python",
   "pygments_lexer": "ipython3",
   "version": "3.11.7"
  }
 },
 "nbformat": 4,
 "nbformat_minor": 5
}
