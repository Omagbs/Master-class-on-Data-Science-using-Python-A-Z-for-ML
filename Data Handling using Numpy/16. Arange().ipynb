{
 "cells": [
  {
   "cell_type": "markdown",
   "id": "04b027aa-d16f-4e8a-b424-d11888445430",
   "metadata": {},
   "source": [
    "# Arange() Function"
   ]
  },
  {
   "cell_type": "markdown",
   "id": "13db70c3-3d08-4537-831a-0c0884bcc498",
   "metadata": {},
   "source": [
    "The arange function is fundamentally used to create an array. It has the **syntax: arange(start, stop, step, dtype])**"
   ]
  },
  {
   "cell_type": "code",
   "execution_count": 5,
   "id": "6d5ac18f-bf6b-4771-9d9a-6a8c1e20cf15",
   "metadata": {},
   "outputs": [
    {
     "name": "stdout",
     "output_type": "stream",
     "text": [
      "[1 2 3 4 5 6 7 8 9]\n"
     ]
    }
   ],
   "source": [
    "import numpy as np\n",
    "x = np.arange(1, 10)\n",
    "print(x)"
   ]
  },
  {
   "cell_type": "markdown",
   "id": "80e34104-285c-4af9-ac28-4423a9e64bfa",
   "metadata": {},
   "source": [
    "it prints from the first to the last item.\n",
    "\n",
    "This can also be implemented using step as shown below"
   ]
  },
  {
   "cell_type": "code",
   "execution_count": 6,
   "id": "8defd508-f809-475d-8f2c-52be5035aaca",
   "metadata": {},
   "outputs": [
    {
     "name": "stdout",
     "output_type": "stream",
     "text": [
      "[ 1  3  5  7  9 11 13 15 17 19]\n"
     ]
    }
   ],
   "source": [
    "y = np.arange(1, 20, 2)\n",
    "print(y)"
   ]
  },
  {
   "cell_type": "markdown",
   "id": "2734a222-0b58-416e-b23b-958b3251ba40",
   "metadata": {},
   "source": [
    "it prints in steps of 2, by skipping a number"
   ]
  },
  {
   "cell_type": "code",
   "execution_count": null,
   "id": "0b3d4e89-496b-490c-bece-70c91ae283dd",
   "metadata": {},
   "outputs": [],
   "source": []
  }
 ],
 "metadata": {
  "kernelspec": {
   "display_name": "Python 3 (ipykernel)",
   "language": "python",
   "name": "python3"
  },
  "language_info": {
   "codemirror_mode": {
    "name": "ipython",
    "version": 3
   },
   "file_extension": ".py",
   "mimetype": "text/x-python",
   "name": "python",
   "nbconvert_exporter": "python",
   "pygments_lexer": "ipython3",
   "version": "3.11.7"
  }
 },
 "nbformat": 4,
 "nbformat_minor": 5
}
