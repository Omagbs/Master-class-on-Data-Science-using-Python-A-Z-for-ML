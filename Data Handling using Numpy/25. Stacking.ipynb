{
 "cells": [
  {
   "cell_type": "markdown",
   "id": "b055a9e1-41b3-4730-b700-d23d90fc030c",
   "metadata": {},
   "source": [
    "# Stacking\n",
    "\n",
    " Stacking means to join two or more arrays, either horizontally or vertically, meaning that it is done along a new axis.\n",
    " They are of different types\n",
    "\n",
    "- `np.vstack()` stacks vertically\n",
    "- `np.hstack()` stacks horizontally\n",
    "- `np.hsplit()` splits the array into smaller parts"
   ]
  },
  {
   "cell_type": "code",
   "execution_count": 7,
   "id": "7430b444-ea2c-4e47-9786-8fe77494670d",
   "metadata": {},
   "outputs": [
    {
     "name": "stdout",
     "output_type": "stream",
     "text": [
      "arr1:\n",
      "[[2 5]\n",
      " [8 6]]\n",
      "arr2:\n",
      "[[7 4]\n",
      " [3 2]]\n"
     ]
    }
   ],
   "source": [
    "import numpy as np\n",
    "\n",
    "arr1 = np.array([[2,5],[8,6]])\n",
    "arr2 = np.array([[7,4],[3,2]])\n",
    "print(f'arr1:\\n{arr1}')\n",
    "print(f'arr2:\\n{arr2}')"
   ]
  },
  {
   "cell_type": "code",
   "execution_count": 5,
   "id": "c32f603e-37a3-420b-a305-3d96744bf40a",
   "metadata": {},
   "outputs": [
    {
     "name": "stdout",
     "output_type": "stream",
     "text": [
      "[[2 5]\n",
      " [8 6]\n",
      " [7 4]\n",
      " [3 2]]\n"
     ]
    }
   ],
   "source": [
    "# To stack the arrays vertically:\n",
    "\n",
    "vert_stacking = np.vstack((arr1, arr2))\n",
    "print(vert_stacking)"
   ]
  },
  {
   "cell_type": "code",
   "execution_count": 6,
   "id": "77249788-86a2-4545-9472-59d21a1826a8",
   "metadata": {},
   "outputs": [
    {
     "name": "stdout",
     "output_type": "stream",
     "text": [
      "[[2 5 7 4]\n",
      " [8 6 3 2]]\n"
     ]
    }
   ],
   "source": [
    "# To stack the array horizontally:\n",
    "\n",
    "horz_stacking = np.hstack((arr1, arr2))\n",
    "print(horz_stacking)"
   ]
  },
  {
   "cell_type": "code",
   "execution_count": 10,
   "id": "d3c19957-1342-4283-b7ce-31b1de544339",
   "metadata": {},
   "outputs": [
    {
     "name": "stdout",
     "output_type": "stream",
     "text": [
      "[array([[2, 5],\n",
      "       [8, 6]]), array([], shape=(2, 0), dtype=int32), array([[7, 4],\n",
      "       [3, 2]])]\n"
     ]
    }
   ],
   "source": [
    "# To split the arrays into smaller parts\n",
    "\n",
    "to_split = np.hsplit(horz_stacking, (2,2))\n",
    "print(to_split)"
   ]
  },
  {
   "cell_type": "code",
   "execution_count": null,
   "id": "5de52c8e-e7a1-43a5-8f41-9d133ca8682b",
   "metadata": {},
   "outputs": [],
   "source": []
  }
 ],
 "metadata": {
  "kernelspec": {
   "display_name": "Python 3 (ipykernel)",
   "language": "python",
   "name": "python3"
  },
  "language_info": {
   "codemirror_mode": {
    "name": "ipython",
    "version": 3
   },
   "file_extension": ".py",
   "mimetype": "text/x-python",
   "name": "python",
   "nbconvert_exporter": "python",
   "pygments_lexer": "ipython3",
   "version": "3.11.7"
  }
 },
 "nbformat": 4,
 "nbformat_minor": 5
}
