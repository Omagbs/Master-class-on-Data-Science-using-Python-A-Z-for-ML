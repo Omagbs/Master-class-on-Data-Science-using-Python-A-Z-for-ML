{
 "cells": [
  {
   "cell_type": "markdown",
   "id": "da0118d3-d3e3-45ec-b68c-4dc36d5c6fdf",
   "metadata": {},
   "source": [
    "# Sorting Elements in 1D Array"
   ]
  },
  {
   "cell_type": "code",
   "execution_count": 1,
   "id": "8eecb05f-f2a7-49bd-8f26-9e401f034469",
   "metadata": {},
   "outputs": [],
   "source": [
    "import numpy as np\n",
    "arr = np.array([10, 25, 13, 64, 57])"
   ]
  },
  {
   "cell_type": "markdown",
   "id": "bc47e980-aae2-43be-8fe9-26b226d6eaec",
   "metadata": {},
   "source": [
    "**Before sorting, the output is:**"
   ]
  },
  {
   "cell_type": "code",
   "execution_count": 2,
   "id": "6a9a6d85-407e-430c-8db2-10243da2f0c3",
   "metadata": {},
   "outputs": [
    {
     "name": "stdout",
     "output_type": "stream",
     "text": [
      "Array contents are: [10 25 13 64 57]\n"
     ]
    }
   ],
   "source": [
    "print(\"Array contents are:\", arr)"
   ]
  },
  {
   "cell_type": "markdown",
   "id": "bb741852-319e-40cb-a7fe-f329a1cff0ea",
   "metadata": {},
   "source": [
    "**After sorting, the result:**"
   ]
  },
  {
   "cell_type": "code",
   "execution_count": 5,
   "id": "0035662a-69fc-4f67-a32c-e611c289fc4b",
   "metadata": {},
   "outputs": [
    {
     "name": "stdout",
     "output_type": "stream",
     "text": [
      "Array after sorting: [10 13 25 57 64]\n"
     ]
    }
   ],
   "source": [
    "print(\"Array after sorting:\", np.sort(arr))"
   ]
  }
 ],
 "metadata": {
  "kernelspec": {
   "display_name": "Python 3 (ipykernel)",
   "language": "python",
   "name": "python3"
  },
  "language_info": {
   "codemirror_mode": {
    "name": "ipython",
    "version": 3
   },
   "file_extension": ".py",
   "mimetype": "text/x-python",
   "name": "python",
   "nbconvert_exporter": "python",
   "pygments_lexer": "ipython3",
   "version": "3.11.7"
  }
 },
 "nbformat": 4,
 "nbformat_minor": 5
}
