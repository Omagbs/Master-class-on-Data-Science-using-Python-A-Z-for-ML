{
 "cells": [
  {
   "cell_type": "markdown",
   "id": "7d4690ff-6c6f-4e71-820b-472b432b4d43",
   "metadata": {},
   "source": [
    "# Creating and Displaying 2D Array"
   ]
  },
  {
   "cell_type": "code",
   "execution_count": 9,
   "id": "0cad1625-3146-4d09-9863-2808ec61cd31",
   "metadata": {},
   "outputs": [
    {
     "name": "stdout",
     "output_type": "stream",
     "text": [
      "[[1 2 3]\n",
      " [4 5 6]]\n"
     ]
    }
   ],
   "source": [
    "import numpy as np\n",
    "arr = np.array([[1, 2, 3], [4, 5, 6]])\n",
    "print(arr)"
   ]
  },
  {
   "cell_type": "markdown",
   "id": "99be523b-140c-4289-b2f9-2a0ebf3ddc5d",
   "metadata": {},
   "source": [
    "**You can print the array row by row using for loop**"
   ]
  },
  {
   "cell_type": "code",
   "execution_count": 10,
   "id": "1d27827d-3e79-4d05-a88c-499dec7c303e",
   "metadata": {},
   "outputs": [
    {
     "name": "stdout",
     "output_type": "stream",
     "text": [
      "[1 2 3]\n",
      "[4 5 6]\n"
     ]
    }
   ],
   "source": [
    "for x in arr:\n",
    "    print(x)"
   ]
  },
  {
   "cell_type": "code",
   "execution_count": null,
   "id": "708d3904-a64a-4fde-8daa-fc0c44bb1f73",
   "metadata": {},
   "outputs": [],
   "source": []
  }
 ],
 "metadata": {
  "kernelspec": {
   "display_name": "Python 3 (ipykernel)",
   "language": "python",
   "name": "python3"
  },
  "language_info": {
   "codemirror_mode": {
    "name": "ipython",
    "version": 3
   },
   "file_extension": ".py",
   "mimetype": "text/x-python",
   "name": "python",
   "nbconvert_exporter": "python",
   "pygments_lexer": "ipython3",
   "version": "3.11.7"
  }
 },
 "nbformat": 4,
 "nbformat_minor": 5
}
