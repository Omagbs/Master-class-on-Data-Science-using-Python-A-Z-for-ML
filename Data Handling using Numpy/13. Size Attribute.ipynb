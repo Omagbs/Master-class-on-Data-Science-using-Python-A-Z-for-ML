{
 "cells": [
  {
   "cell_type": "markdown",
   "id": "324bfdab-c38e-43e7-8a52-bce137637306",
   "metadata": {},
   "source": [
    "# Size Attribute"
   ]
  },
  {
   "cell_type": "markdown",
   "id": "47e18f22-c80a-4812-bfcb-f84f9252cfba",
   "metadata": {},
   "source": [
    "The size attribute or function tells the size of the array by taking into to account the size of the element"
   ]
  },
  {
   "cell_type": "code",
   "execution_count": 1,
   "id": "ab54673e-32f2-46d3-9b37-d299430c9a65",
   "metadata": {},
   "outputs": [],
   "source": [
    "import numpy as np\n",
    "arr = np.array([[40,405,530,90],[109,38,45,78]])"
   ]
  },
  {
   "cell_type": "markdown",
   "id": "b24186a7-08d1-42b7-8fae-99e483c4c436",
   "metadata": {},
   "source": [
    "Now, using the size attribute to check the size of the array..."
   ]
  },
  {
   "cell_type": "code",
   "execution_count": 3,
   "id": "6409d5e2-8f5c-48cd-a072-c4bda93559dc",
   "metadata": {},
   "outputs": [
    {
     "name": "stdout",
     "output_type": "stream",
     "text": [
      "The size of the array is: 8\n"
     ]
    }
   ],
   "source": [
    "attribute = arr.size\n",
    "print(f\"The size of the array is: {attribute}\")"
   ]
  },
  {
   "cell_type": "markdown",
   "id": "eca677e2-c9cc-44a1-8b8d-a625db8d88ff",
   "metadata": {},
   "source": [
    "The size of arr is 8, because it has 8 elements in it. The dimension of the array is insignifcant when using the size attribute"
   ]
  },
  {
   "cell_type": "code",
   "execution_count": 6,
   "id": "7689b3d9-607f-411e-8633-76f5887a5799",
   "metadata": {},
   "outputs": [
    {
     "name": "stdout",
     "output_type": "stream",
     "text": [
      "The size of the array is: 8\n"
     ]
    }
   ],
   "source": [
    "arr2 = np.array([1,23,55,75,75,53,6,6])\n",
    "attr = arr2.size\n",
    "print(f\"The size of the array is: {attr}\")"
   ]
  },
  {
   "cell_type": "code",
   "execution_count": null,
   "id": "62ddd757-caa6-4f2c-9c8c-b9d003339c6d",
   "metadata": {},
   "outputs": [],
   "source": []
  }
 ],
 "metadata": {
  "kernelspec": {
   "display_name": "Python 3 (ipykernel)",
   "language": "python",
   "name": "python3"
  },
  "language_info": {
   "codemirror_mode": {
    "name": "ipython",
    "version": 3
   },
   "file_extension": ".py",
   "mimetype": "text/x-python",
   "name": "python",
   "nbconvert_exporter": "python",
   "pygments_lexer": "ipython3",
   "version": "3.11.7"
  }
 },
 "nbformat": 4,
 "nbformat_minor": 5
}
