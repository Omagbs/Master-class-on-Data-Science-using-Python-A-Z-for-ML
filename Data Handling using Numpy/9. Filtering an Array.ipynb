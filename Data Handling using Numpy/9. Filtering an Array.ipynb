{
 "cells": [
  {
   "cell_type": "markdown",
   "id": "b856eaf6-8694-44b0-a696-a0519a0b712f",
   "metadata": {},
   "source": [
    "# Filtering an Array"
   ]
  },
  {
   "cell_type": "markdown",
   "id": "c4ed77e2-d224-4741-8c9d-f89952ab599e",
   "metadata": {},
   "source": [
    "Filtering an array can be done using using a **boolean index** list"
   ]
  },
  {
   "cell_type": "code",
   "execution_count": 3,
   "id": "78681550-3af8-4395-83ca-e751d43baecc",
   "metadata": {},
   "outputs": [
    {
     "name": "stdout",
     "output_type": "stream",
     "text": [
      "[41 43]\n"
     ]
    }
   ],
   "source": [
    "import numpy as np\n",
    "arr = np.array([41, 42, 43, 44])\n",
    "x = [True, False, True, False] #Boolean index list\n",
    "newarr = arr[x]\n",
    "print(newarr)"
   ]
  },
  {
   "cell_type": "markdown",
   "id": "7291aaa5-d0a5-4cb9-832b-cb28bac6cae2",
   "metadata": {},
   "source": [
    "The boolean index acts like a filter to sieve out unwated elements. \n",
    "\n",
    "it maps the array to itself and allows only elements that corresponds to true to be stored."
   ]
  },
  {
   "cell_type": "code",
   "execution_count": 4,
   "id": "13b67d14-3375-42b9-abf3-0d965ae5e5fa",
   "metadata": {},
   "outputs": [
    {
     "name": "stdout",
     "output_type": "stream",
     "text": [
      "[41 43]\n"
     ]
    }
   ],
   "source": [
    "print(arr[x])"
   ]
  },
  {
   "cell_type": "markdown",
   "id": "f4ab0a1f-a811-4512-8836-aa1e7453cd9c",
   "metadata": {},
   "source": [
    "Executing it as in cell [4] can also work"
   ]
  }
 ],
 "metadata": {
  "kernelspec": {
   "display_name": "Python 3 (ipykernel)",
   "language": "python",
   "name": "python3"
  },
  "language_info": {
   "codemirror_mode": {
    "name": "ipython",
    "version": 3
   },
   "file_extension": ".py",
   "mimetype": "text/x-python",
   "name": "python",
   "nbconvert_exporter": "python",
   "pygments_lexer": "ipython3",
   "version": "3.11.7"
  }
 },
 "nbformat": 4,
 "nbformat_minor": 5
}
