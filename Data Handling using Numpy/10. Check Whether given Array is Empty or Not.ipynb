{
 "cells": [
  {
   "cell_type": "markdown",
   "id": "ba508deb-f14d-4162-920a-9767d9f2c166",
   "metadata": {},
   "source": [
    "# Check Whether given Array is Empty or Not"
   ]
  },
  {
   "cell_type": "markdown",
   "id": "ee2158d5-317b-4557-afbe-2e312a60ce05",
   "metadata": {},
   "source": [
    "the use of if condition can be used to check whether a given array is empty or not"
   ]
  },
  {
   "cell_type": "code",
   "execution_count": 1,
   "id": "4c388031-6129-4b4a-84bc-ef83e0bca40c",
   "metadata": {},
   "outputs": [
    {
     "name": "stdout",
     "output_type": "stream",
     "text": [
      "Not empty\n"
     ]
    }
   ],
   "source": [
    "import numpy as np\n",
    "arr = np.array([1, 2])\n",
    "if arr.size == 0:\n",
    "    print(\"The array is empty\")\n",
    "else:\n",
    "    print(\"Not empty\")"
   ]
  }
 ],
 "metadata": {
  "kernelspec": {
   "display_name": "Python 3 (ipykernel)",
   "language": "python",
   "name": "python3"
  },
  "language_info": {
   "codemirror_mode": {
    "name": "ipython",
    "version": 3
   },
   "file_extension": ".py",
   "mimetype": "text/x-python",
   "name": "python",
   "nbconvert_exporter": "python",
   "pygments_lexer": "ipython3",
   "version": "3.11.7"
  }
 },
 "nbformat": 4,
 "nbformat_minor": 5
}
