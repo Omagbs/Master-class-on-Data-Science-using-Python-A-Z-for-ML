{
 "cells": [
  {
   "cell_type": "markdown",
   "id": "ebf3d50e-3613-41f8-bc70-6d318ef9da03",
   "metadata": {},
   "source": [
    "# Shape and Reshape of Array"
   ]
  },
  {
   "cell_type": "markdown",
   "id": "10a33d4f-d623-430a-b472-5f0e6f7dca0a",
   "metadata": {},
   "source": [
    "when using the **Shape** attribute or function, you get the shape of the array in (row, column) format"
   ]
  },
  {
   "cell_type": "code",
   "execution_count": 7,
   "id": "0a1bc82b-ed70-4c4a-a5c3-5f8f6e351009",
   "metadata": {},
   "outputs": [],
   "source": [
    "import numpy as np\n",
    "arr1 = np.array([12, 12, 45])\n",
    "arr2 = np.array([[12, 56, 78, 77], [24, 45, 67, 78], [24, 256, 78, 89]])\n",
    "arr3 = np.array([[33, 33, 33], [34, 6, 6]])"
   ]
  },
  {
   "cell_type": "code",
   "execution_count": 8,
   "id": "f9d8f9e5-f7ac-4fdd-8ced-af5bcca92b5f",
   "metadata": {},
   "outputs": [
    {
     "name": "stdout",
     "output_type": "stream",
     "text": [
      "The shape of the arr1 is: (3,) \n",
      "The shape of the arr2 is: (3, 4) \n",
      "The shape of the arr3 is: (2, 3)\n"
     ]
    }
   ],
   "source": [
    "attr1 = arr1.shape\n",
    "attr2 = arr2.shape\n",
    "attr3 = arr3.shape\n",
    "\n",
    "print(f\"The shape of the arr1 is: {attr1} \\nThe shape of the arr2 is: {attr2} \\nThe shape of the arr3 is: {attr3}\")"
   ]
  },
  {
   "cell_type": "markdown",
   "id": "87f3c86f-84e2-4656-b141-8afa84b7b11d",
   "metadata": {},
   "source": [
    "Note: When it's just one row or a one dimensional array, the **shape** attribute just outputs the column since it's already a single row"
   ]
  },
  {
   "cell_type": "markdown",
   "id": "593e75e0-c350-4696-b8c9-a23f9f82c865",
   "metadata": {},
   "source": [
    "Using the **Reshape** attribute or function, helps you reshape the array in terms of rows and columns\n",
    "\n",
    "So I want to reshape all the Arrays above."
   ]
  },
  {
   "cell_type": "code",
   "execution_count": 13,
   "id": "10a4184c-00f0-4589-9731-b7f966272c0d",
   "metadata": {},
   "outputs": [],
   "source": [
    "arr1 = arr1.reshape(3,1)\n",
    "arr2 = arr2.reshape(2, 6)\n",
    "arr3 = arr3.reshape(3, 2)"
   ]
  },
  {
   "cell_type": "code",
   "execution_count": 15,
   "id": "88bc496c-c364-4dde-b0e7-9944dff80ae3",
   "metadata": {},
   "outputs": [
    {
     "name": "stdout",
     "output_type": "stream",
     "text": [
      "New shape for Arr1: (3, 1)\n"
     ]
    }
   ],
   "source": [
    "print(\"New shape for Arr1:\", arr1.shape)"
   ]
  },
  {
   "cell_type": "code",
   "execution_count": 16,
   "id": "63f4b939-12d0-4700-a69c-bf87295d6ddc",
   "metadata": {},
   "outputs": [
    {
     "name": "stdout",
     "output_type": "stream",
     "text": [
      "New shape for Arr2: (2, 6)\n",
      "New shape for Arr3: (3, 2)\n"
     ]
    }
   ],
   "source": [
    "print(\"New shape for Arr2:\", arr2.shape)\n",
    "print(\"New shape for Arr3:\", arr3.shape)"
   ]
  },
  {
   "cell_type": "code",
   "execution_count": 17,
   "id": "6e143be5-08dd-4cd3-97a2-32dc55c4e8dc",
   "metadata": {},
   "outputs": [
    {
     "name": "stdout",
     "output_type": "stream",
     "text": [
      "[[12]\n",
      " [12]\n",
      " [45]]\n"
     ]
    }
   ],
   "source": [
    "print(arr1)"
   ]
  },
  {
   "cell_type": "code",
   "execution_count": 18,
   "id": "18ed2600-7c70-42f0-9d1e-9aa4346aa39a",
   "metadata": {},
   "outputs": [
    {
     "name": "stdout",
     "output_type": "stream",
     "text": [
      "[[ 12  56  78  77  24  45]\n",
      " [ 67  78  24 256  78  89]]\n"
     ]
    }
   ],
   "source": [
    "print(arr2)"
   ]
  },
  {
   "cell_type": "code",
   "execution_count": 19,
   "id": "ded2c840-cd33-4af5-9af9-d35f48fcade4",
   "metadata": {},
   "outputs": [
    {
     "name": "stdout",
     "output_type": "stream",
     "text": [
      "[[33 33]\n",
      " [33 34]\n",
      " [ 6  6]]\n"
     ]
    }
   ],
   "source": [
    "print(arr3)"
   ]
  }
 ],
 "metadata": {
  "kernelspec": {
   "display_name": "Python 3 (ipykernel)",
   "language": "python",
   "name": "python3"
  },
  "language_info": {
   "codemirror_mode": {
    "name": "ipython",
    "version": 3
   },
   "file_extension": ".py",
   "mimetype": "text/x-python",
   "name": "python",
   "nbconvert_exporter": "python",
   "pygments_lexer": "ipython3",
   "version": "3.11.7"
  }
 },
 "nbformat": 4,
 "nbformat_minor": 5
}
