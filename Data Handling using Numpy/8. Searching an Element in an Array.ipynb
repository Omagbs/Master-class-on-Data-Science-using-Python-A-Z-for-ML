{
 "cells": [
  {
   "cell_type": "markdown",
   "id": "3eaf7586-a8e7-4ec8-92c0-7828cc95bff5",
   "metadata": {},
   "source": [
    "# Searching an Element in an Array"
   ]
  },
  {
   "cell_type": "markdown",
   "id": "ea82cbcb-e39b-4da3-ab7e-6bba652c7db0",
   "metadata": {},
   "source": [
    "In searching for an element in an array, we use the where() prebuilt function.\n",
    "This searches for the index(s) of the key on the array"
   ]
  },
  {
   "cell_type": "code",
   "execution_count": 1,
   "id": "72c7e3a9-65c0-4c83-8827-cc6cfa713935",
   "metadata": {},
   "outputs": [
    {
     "name": "stdout",
     "output_type": "stream",
     "text": [
      "(array([3, 5, 6], dtype=int64),)\n"
     ]
    }
   ],
   "source": [
    "import numpy as np\n",
    "arr = np.array([1, 2, 3, 4, 5, 4, 4])\n",
    "i = np.where(arr == 4)\n",
    "print(i)"
   ]
  },
  {
   "cell_type": "markdown",
   "id": "4df4c3ee-d686-4d32-975f-792062519ef9",
   "metadata": {},
   "source": [
    "that is to say 4 can be found at the following index positions: 3, 5, and 6"
   ]
  },
  {
   "cell_type": "markdown",
   "id": "e861206b-cf99-4ece-a1d9-3078889c3db2",
   "metadata": {},
   "source": [
    "## Find the Indexes for Even Values"
   ]
  },
  {
   "cell_type": "code",
   "execution_count": 2,
   "id": "999c764f-d2d9-4947-9d63-3adf9f56b776",
   "metadata": {},
   "outputs": [
    {
     "name": "stdout",
     "output_type": "stream",
     "text": [
      "(array([1, 3, 5, 7], dtype=int64),)\n"
     ]
    }
   ],
   "source": [
    "arr = np.array([1, 2, 3, 4, 5, 6, 7, 8, 9])\n",
    "x = np.where(arr%2 == 0)\n",
    "print(x)"
   ]
  }
 ],
 "metadata": {
  "kernelspec": {
   "display_name": "Python 3 (ipykernel)",
   "language": "python",
   "name": "python3"
  },
  "language_info": {
   "codemirror_mode": {
    "name": "ipython",
    "version": 3
   },
   "file_extension": ".py",
   "mimetype": "text/x-python",
   "name": "python",
   "nbconvert_exporter": "python",
   "pygments_lexer": "ipython3",
   "version": "3.11.7"
  }
 },
 "nbformat": 4,
 "nbformat_minor": 5
}
