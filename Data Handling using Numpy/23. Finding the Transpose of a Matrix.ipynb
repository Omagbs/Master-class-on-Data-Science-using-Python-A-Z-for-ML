{
 "cells": [
  {
   "cell_type": "markdown",
   "id": "09e1cb5d-18bf-4aa5-a20f-39865b7714b7",
   "metadata": {},
   "source": [
    "# Transpose of Matrix\n",
    "We use the function np.transpose(arr) or a.T or a.Transpose"
   ]
  },
  {
   "cell_type": "code",
   "execution_count": 1,
   "id": "a846292e-9eef-49a1-bbe6-90f7163b30ef",
   "metadata": {},
   "outputs": [
    {
     "name": "stdout",
     "output_type": "stream",
     "text": [
      "[[1 2]\n",
      " [3 8]]\n"
     ]
    }
   ],
   "source": [
    "import numpy as np\n",
    "arr = np.array([[1, 2], [3, 8]])\n",
    "print(arr)"
   ]
  },
  {
   "cell_type": "code",
   "execution_count": null,
   "id": "317181df-9805-4448-b053-6ee99ef8f8e6",
   "metadata": {},
   "outputs": [],
   "source": [
    "print(\"After transposing: \", np.transpose(arr))\n",
    "print(\"After transposing: \", np.transpose(ar))"
   ]
  }
 ],
 "metadata": {
  "kernelspec": {
   "display_name": "Python 3 (ipykernel)",
   "language": "python",
   "name": "python3"
  },
  "language_info": {
   "codemirror_mode": {
    "name": "ipython",
    "version": 3
   },
   "file_extension": ".py",
   "mimetype": "text/x-python",
   "name": "python",
   "nbconvert_exporter": "python",
   "pygments_lexer": "ipython3",
   "version": "3.11.7"
  }
 },
 "nbformat": 4,
 "nbformat_minor": 5
}
