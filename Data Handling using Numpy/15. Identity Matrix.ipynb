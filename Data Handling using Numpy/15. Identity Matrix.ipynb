{
 "cells": [
  {
   "cell_type": "markdown",
   "id": "10fcc44f-37ae-4fb2-854e-3f316f0ed8c7",
   "metadata": {},
   "source": [
    "# Creating an Identity Matrix"
   ]
  },
  {
   "cell_type": "markdown",
   "id": "ef234d7c-1950-432e-86a2-6d30a22fd31b",
   "metadata": {},
   "source": [
    "**To create an identity matrix, we use the eye() function**"
   ]
  },
  {
   "cell_type": "code",
   "execution_count": 2,
   "id": "0b069aec-d081-468a-86d2-794d511471c1",
   "metadata": {},
   "outputs": [
    {
     "name": "stdout",
     "output_type": "stream",
     "text": [
      "[[1. 0. 0. 0. 0.]\n",
      " [0. 1. 0. 0. 0.]\n",
      " [0. 0. 1. 0. 0.]\n",
      " [0. 0. 0. 1. 0.]\n",
      " [0. 0. 0. 0. 1.]]\n"
     ]
    }
   ],
   "source": [
    "import numpy as np\n",
    "arr = np.eye(5)\n",
    "print(arr)"
   ]
  }
 ],
 "metadata": {
  "kernelspec": {
   "display_name": "Python 3 (ipykernel)",
   "language": "python",
   "name": "python3"
  },
  "language_info": {
   "codemirror_mode": {
    "name": "ipython",
    "version": 3
   },
   "file_extension": ".py",
   "mimetype": "text/x-python",
   "name": "python",
   "nbconvert_exporter": "python",
   "pygments_lexer": "ipython3",
   "version": "3.11.7"
  }
 },
 "nbformat": 4,
 "nbformat_minor": 5
}
