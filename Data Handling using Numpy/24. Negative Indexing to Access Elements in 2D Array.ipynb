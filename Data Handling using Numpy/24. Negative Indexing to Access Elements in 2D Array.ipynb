{
 "cells": [
  {
   "cell_type": "markdown",
   "id": "c7235e63-7efe-4e41-a008-07eed356b07a",
   "metadata": {},
   "source": [
    "# Negative Indexing to Access Elements in 2D Arrayy \n",
    "For accessing an element in an array in a 2D Array via indexing, the syntax is **arr[row][column]**"
   ]
  },
  {
   "cell_type": "code",
   "execution_count": 1,
   "id": "8d54d810-a603-46cd-8ca3-ba738e81337f",
   "metadata": {},
   "outputs": [],
   "source": [
    "import numpy as np\n",
    "arr = np.array([[1, 2, 3, 4, 5], [6, 7, 8, 9, 10]])"
   ]
  },
  {
   "cell_type": "code",
   "execution_count": 2,
   "id": "2a2ee84f-2c90-4d52-b142-189982b733c1",
   "metadata": {},
   "outputs": [
    {
     "name": "stdout",
     "output_type": "stream",
     "text": [
      "10\n"
     ]
    }
   ],
   "source": [
    "print(arr[1][-1])"
   ]
  },
  {
   "cell_type": "code",
   "execution_count": null,
   "id": "57d9e340-556a-4fda-81fc-d4c50b54f920",
   "metadata": {},
   "outputs": [],
   "source": []
  }
 ],
 "metadata": {
  "kernelspec": {
   "display_name": "Python 3 (ipykernel)",
   "language": "python",
   "name": "python3"
  },
  "language_info": {
   "codemirror_mode": {
    "name": "ipython",
    "version": 3
   },
   "file_extension": ".py",
   "mimetype": "text/x-python",
   "name": "python",
   "nbconvert_exporter": "python",
   "pygments_lexer": "ipython3",
   "version": "3.11.7"
  }
 },
 "nbformat": 4,
 "nbformat_minor": 5
}
