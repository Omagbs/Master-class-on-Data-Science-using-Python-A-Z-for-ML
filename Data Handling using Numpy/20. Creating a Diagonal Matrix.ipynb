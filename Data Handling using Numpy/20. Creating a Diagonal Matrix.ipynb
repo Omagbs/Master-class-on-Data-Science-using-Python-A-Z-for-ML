{
 "cells": [
  {
   "cell_type": "markdown",
   "id": "a40d10dc-ea43-4e91-a205-d97f80f1bb3e",
   "metadata": {},
   "source": [
    "# Creation of a Diagonal Matrix"
   ]
  },
  {
   "cell_type": "code",
   "execution_count": 2,
   "id": "de9ea2b8-4cd4-4e01-a0fc-06ba53d2412e",
   "metadata": {},
   "outputs": [],
   "source": [
    "import numpy as np\n",
    "arr = np.diag([1, 2, 3, 4])"
   ]
  },
  {
   "cell_type": "markdown",
   "id": "6bb88b8f-6459-481d-b69f-364e383fefb0",
   "metadata": {},
   "source": [
    "Those elements inside the function are the elements that I want to be the diagonal of the matrix. Also, the number of the elements determines the shape of the matrix. This is going to be a 4*4 matrix"
   ]
  },
  {
   "cell_type": "code",
   "execution_count": 3,
   "id": "11ddb39c-40e7-400f-bae2-ed6e68de6beb",
   "metadata": {},
   "outputs": [
    {
     "name": "stdout",
     "output_type": "stream",
     "text": [
      "[[1 0 0 0]\n",
      " [0 2 0 0]\n",
      " [0 0 3 0]\n",
      " [0 0 0 4]]\n"
     ]
    }
   ],
   "source": [
    "print(arr)"
   ]
  },
  {
   "cell_type": "code",
   "execution_count": null,
   "id": "dd04f3c9-fab5-4377-9a67-4dae02f27bf2",
   "metadata": {},
   "outputs": [],
   "source": []
  }
 ],
 "metadata": {
  "kernelspec": {
   "display_name": "Python 3 (ipykernel)",
   "language": "python",
   "name": "python3"
  },
  "language_info": {
   "codemirror_mode": {
    "name": "ipython",
    "version": 3
   },
   "file_extension": ".py",
   "mimetype": "text/x-python",
   "name": "python",
   "nbconvert_exporter": "python",
   "pygments_lexer": "ipython3",
   "version": "3.11.7"
  }
 },
 "nbformat": 4,
 "nbformat_minor": 5
}
