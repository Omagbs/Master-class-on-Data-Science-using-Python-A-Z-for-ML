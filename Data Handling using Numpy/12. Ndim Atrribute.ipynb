{
 "cells": [
  {
   "cell_type": "markdown",
   "id": "66acb3a4-e95b-43bc-a863-8394364ed4c1",
   "metadata": {},
   "source": [
    "# Ndim Atrribute"
   ]
  },
  {
   "cell_type": "markdown",
   "id": "0e3b0c6d-ccce-4ad1-a92c-5c9ae1cd1fbc",
   "metadata": {},
   "source": [
    "The dimension of an array can be checked using the the Ndim attribute. Think of it as Nth Dimension abbreviated to Ndim"
   ]
  },
  {
   "cell_type": "code",
   "execution_count": 1,
   "id": "2bc3a793-962c-4d28-90c9-d71723f045d4",
   "metadata": {},
   "outputs": [],
   "source": [
    "import numpy as np\n",
    "arr1 = np.array([1, 2, 3, 4])\n",
    "arr2 = np.array([[1, 2, 3, 4], [5, 6, 7, 8]])"
   ]
  },
  {
   "cell_type": "markdown",
   "id": "f5860626-0476-41e0-80cc-f9ba41006a66",
   "metadata": {},
   "source": [
    "Now, Using the Ndim attribute or function..."
   ]
  },
  {
   "cell_type": "code",
   "execution_count": 3,
   "id": "a955644e-56ba-4ff7-bfcd-6a3c919ac855",
   "metadata": {},
   "outputs": [
    {
     "name": "stdout",
     "output_type": "stream",
     "text": [
      "Dimension of arr1 is: 1\n"
     ]
    }
   ],
   "source": [
    "Attribute = arr1.ndim\n",
    "print(f\"Dimension of arr1 is: {Attribute}\")"
   ]
  },
  {
   "cell_type": "code",
   "execution_count": 4,
   "id": "0f0286a9-6b6e-4757-a92a-7d8ada7d5a82",
   "metadata": {},
   "outputs": [
    {
     "name": "stdout",
     "output_type": "stream",
     "text": [
      "Dimension of arr2 is: 2\n"
     ]
    }
   ],
   "source": [
    "Attribute = arr2.ndim\n",
    "print(f\"Dimension of arr2 is: {Attribute}\")"
   ]
  },
  {
   "cell_type": "markdown",
   "id": "00765244-4a6f-4c23-bd5d-090a70e00361",
   "metadata": {},
   "source": [
    "So there you have it, arr1 is a 1 Dimensional Array and arr2 is a 2 Dimenisonal Array"
   ]
  }
 ],
 "metadata": {
  "kernelspec": {
   "display_name": "Python 3 (ipykernel)",
   "language": "python",
   "name": "python3"
  },
  "language_info": {
   "codemirror_mode": {
    "name": "ipython",
    "version": 3
   },
   "file_extension": ".py",
   "mimetype": "text/x-python",
   "name": "python",
   "nbconvert_exporter": "python",
   "pygments_lexer": "ipython3",
   "version": "3.11.7"
  }
 },
 "nbformat": 4,
 "nbformat_minor": 5
}
