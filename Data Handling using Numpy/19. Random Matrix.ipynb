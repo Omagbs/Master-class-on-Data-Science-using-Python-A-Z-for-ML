{
 "cells": [
  {
   "cell_type": "markdown",
   "id": "65ab9bcb-f9b4-49af-8990-64bb49d03114",
   "metadata": {},
   "source": [
    "# Random Matrix"
   ]
  },
  {
   "cell_type": "markdown",
   "id": "210e8b74-755c-4fa0-a260-31053da435da",
   "metadata": {},
   "source": [
    "Similar to the generation of Random Array, you use the random.rand() function. But this time, you imput the shape of the matrix. Also,it generates between 0 and 1"
   ]
  },
  {
   "cell_type": "code",
   "execution_count": 1,
   "id": "fbc75c79-14ce-466e-b737-f332fb7a5977",
   "metadata": {},
   "outputs": [
    {
     "name": "stdout",
     "output_type": "stream",
     "text": [
      "[[0.2863183  0.9578565  0.25986962 0.46032248]\n",
      " [0.76384066 0.84608365 0.71385568 0.60572219]\n",
      " [0.41420291 0.08853678 0.27707253 0.99972209]]\n"
     ]
    }
   ],
   "source": [
    "import numpy as np\n",
    "arr = np.random.rand(3,4)\n",
    "print(arr)"
   ]
  },
  {
   "cell_type": "code",
   "execution_count": null,
   "id": "8444f173-fb34-439a-9c97-c92755e4a34c",
   "metadata": {},
   "outputs": [],
   "source": []
  }
 ],
 "metadata": {
  "kernelspec": {
   "display_name": "Python 3 (ipykernel)",
   "language": "python",
   "name": "python3"
  },
  "language_info": {
   "codemirror_mode": {
    "name": "ipython",
    "version": 3
   },
   "file_extension": ".py",
   "mimetype": "text/x-python",
   "name": "python",
   "nbconvert_exporter": "python",
   "pygments_lexer": "ipython3",
   "version": "3.11.7"
  }
 },
 "nbformat": 4,
 "nbformat_minor": 5
}
