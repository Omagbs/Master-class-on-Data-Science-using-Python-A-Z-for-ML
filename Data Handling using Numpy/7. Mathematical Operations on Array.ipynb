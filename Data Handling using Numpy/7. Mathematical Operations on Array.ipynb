{
 "cells": [
  {
   "cell_type": "markdown",
   "id": "0f839e50-1b7c-437a-85e3-50e23226db05",
   "metadata": {},
   "source": [
    "# Mathematical Operations on Array"
   ]
  },
  {
   "cell_type": "markdown",
   "id": "ec2daac6-14a3-4a4f-be94-e716116b1153",
   "metadata": {},
   "source": [
    "Mathematical operations such as addition, subtraction, multiplaction can be performed on arrays"
   ]
  },
  {
   "cell_type": "code",
   "execution_count": 1,
   "id": "e375c66b-d939-43ae-b3ff-82d796363231",
   "metadata": {},
   "outputs": [
    {
     "name": "stdout",
     "output_type": "stream",
     "text": [
      "[1 2 3 4 5]\n"
     ]
    }
   ],
   "source": [
    "import numpy as np\n",
    "arr = np.array([1, 2, 3, 4, 5])\n",
    "print(arr)"
   ]
  },
  {
   "cell_type": "markdown",
   "id": "cfbd5377-f4e0-4b8e-866b-981eadd0e940",
   "metadata": {},
   "source": [
    "**Addition**"
   ]
  },
  {
   "cell_type": "code",
   "execution_count": 2,
   "id": "2078ef69-5f88-4021-96bd-ba71d04add86",
   "metadata": {},
   "outputs": [
    {
     "name": "stdout",
     "output_type": "stream",
     "text": [
      "[ 6  7  8  9 10]\n"
     ]
    }
   ],
   "source": [
    "arr = arr + 5\n",
    "print(arr)"
   ]
  },
  {
   "cell_type": "markdown",
   "id": "ac5b91a9-b513-4369-805c-0a3ff024f3a1",
   "metadata": {},
   "source": [
    "**Subtraction**"
   ]
  },
  {
   "cell_type": "code",
   "execution_count": 3,
   "id": "9c82115a-f893-439c-b9e3-a7d2d7f81f5e",
   "metadata": {},
   "outputs": [
    {
     "name": "stdout",
     "output_type": "stream",
     "text": [
      "[1 2 3 4 5]\n"
     ]
    }
   ],
   "source": [
    "arr = arr - 5\n",
    "print(arr)"
   ]
  },
  {
   "cell_type": "markdown",
   "id": "8a90a0bc-65db-4fc4-86eb-8c83c362a3cc",
   "metadata": {},
   "source": [
    "**Multiplication**"
   ]
  },
  {
   "cell_type": "code",
   "execution_count": 4,
   "id": "c2a97eae-dd3f-4a26-9ea7-fdbe346edb13",
   "metadata": {},
   "outputs": [
    {
     "name": "stdout",
     "output_type": "stream",
     "text": [
      "[ 5 10 15 20 25]\n"
     ]
    }
   ],
   "source": [
    "arr = arr * 5\n",
    "print(arr)"
   ]
  },
  {
   "cell_type": "markdown",
   "id": "98ba81fe-998b-4c4a-8393-8ea8f1775bb6",
   "metadata": {},
   "source": [
    "**Division**"
   ]
  },
  {
   "cell_type": "code",
   "execution_count": 6,
   "id": "d3d3a7ac-5584-456f-907a-31b29dee71b5",
   "metadata": {},
   "outputs": [
    {
     "name": "stdout",
     "output_type": "stream",
     "text": [
      "[1. 2. 3. 4. 5.]\n"
     ]
    }
   ],
   "source": [
    "arr = arr / 5\n",
    "print(arr)"
   ]
  }
 ],
 "metadata": {
  "kernelspec": {
   "display_name": "Python 3 (ipykernel)",
   "language": "python",
   "name": "python3"
  },
  "language_info": {
   "codemirror_mode": {
    "name": "ipython",
    "version": 3
   },
   "file_extension": ".py",
   "mimetype": "text/x-python",
   "name": "python",
   "nbconvert_exporter": "python",
   "pygments_lexer": "ipython3",
   "version": "3.11.7"
  }
 },
 "nbformat": 4,
 "nbformat_minor": 5
}
