{
 "cells": [
  {
   "cell_type": "markdown",
   "id": "f334252f-ce22-4d91-a940-545c43f5fe81",
   "metadata": {},
   "source": [
    "# Understanding 1D Array Index"
   ]
  },
  {
   "cell_type": "code",
   "execution_count": 1,
   "id": "d5d591bc-aa2b-42db-9fb7-37913c84e844",
   "metadata": {},
   "outputs": [],
   "source": [
    "import numpy as np\n",
    "arr = np.array([10, 25, 13, 64, 57])"
   ]
  },
  {
   "cell_type": "markdown",
   "id": "e23084ec-2a6b-4fef-a748-f9407745c466",
   "metadata": {},
   "source": [
    "When indexing an array, we have:\n",
    "\n",
    "arr[0] = 10\n",
    "\n",
    "arr[1] = 25\n",
    "\n",
    "arr[2] = 13\n",
    "\n",
    "arr[3] = 64\n",
    "\n",
    "arr[4] = 57"
   ]
  },
  {
   "cell_type": "code",
   "execution_count": 2,
   "id": "e81dc50f-d92f-472e-92c8-06f03d41368c",
   "metadata": {},
   "outputs": [
    {
     "name": "stdout",
     "output_type": "stream",
     "text": [
      "13\n"
     ]
    }
   ],
   "source": [
    "print(arr[2])"
   ]
  },
  {
   "cell_type": "markdown",
   "id": "50d01127-dd39-4c24-996e-c164d769f860",
   "metadata": {},
   "source": [
    "You can also print the index from behind:\n",
    "\n",
    "arr[-1] = 57 = arr[4]\n",
    "\n",
    "arr[-2] = 64 = arr[3]\n",
    "\n",
    "arr[-3] = 13 = arr[2]\n",
    "\n",
    "arr[-4] = 25 = arr[1]\n",
    "\n",
    "arr[-5] = 10 = arr[0]"
   ]
  },
  {
   "cell_type": "code",
   "execution_count": 3,
   "id": "f31253f6-157f-4544-956b-9d6084ae96e2",
   "metadata": {},
   "outputs": [
    {
     "name": "stdout",
     "output_type": "stream",
     "text": [
      "10\n"
     ]
    }
   ],
   "source": [
    "print(arr[-5])"
   ]
  },
  {
   "cell_type": "markdown",
   "id": "886fa079-8895-40f4-99e1-a3b43716a7c8",
   "metadata": {},
   "source": [
    "**Printing out all the elements using for loop**"
   ]
  },
  {
   "cell_type": "code",
   "execution_count": 4,
   "id": "a18488a1-0b92-4e56-b3d5-5e4d7b2cb985",
   "metadata": {},
   "outputs": [
    {
     "name": "stdout",
     "output_type": "stream",
     "text": [
      "10\n",
      "25\n",
      "13\n",
      "64\n",
      "57\n"
     ]
    }
   ],
   "source": [
    "for item in range(len(arr)):\n",
    "    print(arr[item])"
   ]
  },
  {
   "cell_type": "code",
   "execution_count": null,
   "id": "8672aa31-53d5-4c75-a931-7f8b511a3a06",
   "metadata": {},
   "outputs": [],
   "source": []
  }
 ],
 "metadata": {
  "kernelspec": {
   "display_name": "Python 3 (ipykernel)",
   "language": "python",
   "name": "python3"
  },
  "language_info": {
   "codemirror_mode": {
    "name": "ipython",
    "version": 3
   },
   "file_extension": ".py",
   "mimetype": "text/x-python",
   "name": "python",
   "nbconvert_exporter": "python",
   "pygments_lexer": "ipython3",
   "version": "3.11.7"
  }
 },
 "nbformat": 4,
 "nbformat_minor": 5
}
