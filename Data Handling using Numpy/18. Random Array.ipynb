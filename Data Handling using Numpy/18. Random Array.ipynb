{
 "cells": [
  {
   "cell_type": "markdown",
   "id": "87918e57-8432-49a1-b594-3e55fc5f4253",
   "metadata": {},
   "source": [
    "# Random Array"
   ]
  },
  {
   "cell_type": "markdown",
   "id": "ded6ee2d-275e-432e-b258-a0b0db5f4a53",
   "metadata": {},
   "source": [
    "To create a random array within the range(0,1), you make use of the **random.rand()** function."
   ]
  },
  {
   "cell_type": "code",
   "execution_count": 1,
   "id": "ec0e72f9-026a-456a-8d2f-d5e3931921fe",
   "metadata": {},
   "outputs": [
    {
     "name": "stdout",
     "output_type": "stream",
     "text": [
      "[0.56338611 0.69628962 0.38528954 0.94947281 0.57749721]\n"
     ]
    }
   ],
   "source": [
    "import numpy as np\n",
    "x = np.random.rand(5)\n",
    "print(x)"
   ]
  },
  {
   "cell_type": "markdown",
   "id": "52f6bff1-afbe-473f-ae76-0029af913093",
   "metadata": {},
   "source": [
    "Note that the number inside the function determines the number of random elements to be generated. For the above, I used 5."
   ]
  },
  {
   "cell_type": "code",
   "execution_count": null,
   "id": "93e48550-92d2-4a04-bc33-0c425e05d607",
   "metadata": {},
   "outputs": [],
   "source": []
  }
 ],
 "metadata": {
  "kernelspec": {
   "display_name": "Python 3 (ipykernel)",
   "language": "python",
   "name": "python3"
  },
  "language_info": {
   "codemirror_mode": {
    "name": "ipython",
    "version": 3
   },
   "file_extension": ".py",
   "mimetype": "text/x-python",
   "name": "python",
   "nbconvert_exporter": "python",
   "pygments_lexer": "ipython3",
   "version": "3.11.7"
  }
 },
 "nbformat": 4,
 "nbformat_minor": 5
}
