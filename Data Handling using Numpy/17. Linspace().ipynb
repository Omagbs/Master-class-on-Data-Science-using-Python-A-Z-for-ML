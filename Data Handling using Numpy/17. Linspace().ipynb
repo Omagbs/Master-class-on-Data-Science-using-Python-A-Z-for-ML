{
 "cells": [
  {
   "cell_type": "markdown",
   "id": "6fcc06db-2fc4-491d-8928-4cb8711deeea",
   "metadata": {},
   "source": [
    "# Linspace()"
   ]
  },
  {
   "cell_type": "markdown",
   "id": "961614ad-f208-4a33-ab93-9f7f04bb48f7",
   "metadata": {},
   "source": [
    "The linspace() returns evenly spaced number over a specified interval"
   ]
  },
  {
   "cell_type": "code",
   "execution_count": 2,
   "id": "6b0f4ebc-c291-405c-9d83-a350a411f948",
   "metadata": {},
   "outputs": [],
   "source": [
    "import numpy as np"
   ]
  },
  {
   "cell_type": "code",
   "execution_count": 3,
   "id": "c7af4e34-0146-455e-af96-dea3322b3a48",
   "metadata": {},
   "outputs": [
    {
     "name": "stdout",
     "output_type": "stream",
     "text": [
      "[ 1.          1.28571429  1.57142857  1.85714286  2.14285714  2.42857143\n",
      "  2.71428571  3.          3.28571429  3.57142857  3.85714286  4.14285714\n",
      "  4.42857143  4.71428571  5.          5.28571429  5.57142857  5.85714286\n",
      "  6.14285714  6.42857143  6.71428571  7.          7.28571429  7.57142857\n",
      "  7.85714286  8.14285714  8.42857143  8.71428571  9.          9.28571429\n",
      "  9.57142857  9.85714286 10.14285714 10.42857143 10.71428571 11.\n",
      " 11.28571429 11.57142857 11.85714286 12.14285714 12.42857143 12.71428571\n",
      " 13.         13.28571429 13.57142857 13.85714286 14.14285714 14.42857143\n",
      " 14.71428571 15.        ]\n"
     ]
    }
   ],
   "source": [
    "x = np.linspace(1,15)\n",
    "print(x)"
   ]
  },
  {
   "cell_type": "markdown",
   "id": "7d6ef406-0212-475d-a695-c206f49c1451",
   "metadata": {},
   "source": [
    "let's try now with how many elements we want the evenly spaced division to take:"
   ]
  },
  {
   "cell_type": "code",
   "execution_count": 8,
   "id": "6b5d9170-d624-4557-9ac4-00493f857f88",
   "metadata": {},
   "outputs": [
    {
     "name": "stdout",
     "output_type": "stream",
     "text": [
      "[ 1.  8. 15.]\n"
     ]
    }
   ],
   "source": [
    "x = np.linspace(1, 15, 3)\n",
    "print(x)"
   ]
  },
  {
   "cell_type": "code",
   "execution_count": null,
   "id": "0b81c2d5-cb40-4873-9d65-8c94d57888c2",
   "metadata": {},
   "outputs": [],
   "source": []
  }
 ],
 "metadata": {
  "kernelspec": {
   "display_name": "Python 3 (ipykernel)",
   "language": "python",
   "name": "python3"
  },
  "language_info": {
   "codemirror_mode": {
    "name": "ipython",
    "version": 3
   },
   "file_extension": ".py",
   "mimetype": "text/x-python",
   "name": "python",
   "nbconvert_exporter": "python",
   "pygments_lexer": "ipython3",
   "version": "3.11.7"
  }
 },
 "nbformat": 4,
 "nbformat_minor": 5
}
