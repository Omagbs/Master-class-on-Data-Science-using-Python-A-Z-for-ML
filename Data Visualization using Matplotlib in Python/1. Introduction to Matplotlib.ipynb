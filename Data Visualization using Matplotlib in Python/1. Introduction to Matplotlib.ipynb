{
 "cells": [
  {
   "cell_type": "markdown",
   "id": "6ff1110b-10e7-4cfe-8b6b-1d0a0c32f28c",
   "metadata": {},
   "source": [
    "# Introduction to Matplotlib\n",
    "Matplotlib is used for data visualiztion. It makes data more interpretable.\n",
    "Matplolib can be utilized to plot graphs. \n",
    "\n",
    "## Types of Plots (or Charts):\n",
    "- Line \n",
    "- Bar\n",
    "- Scatter\n",
    "- Pie\n",
    "- Area\n",
    "- Histogram"
   ]
  }
 ],
 "metadata": {
  "kernelspec": {
   "display_name": "Python 3 (ipykernel)",
   "language": "python",
   "name": "python3"
  },
  "language_info": {
   "codemirror_mode": {
    "name": "ipython",
    "version": 3
   },
   "file_extension": ".py",
   "mimetype": "text/x-python",
   "name": "python",
   "nbconvert_exporter": "python",
   "pygments_lexer": "ipython3",
   "version": "3.11.7"
  }
 },
 "nbformat": 4,
 "nbformat_minor": 5
}
