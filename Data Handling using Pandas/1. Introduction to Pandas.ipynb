{
 "cells": [
  {
   "cell_type": "markdown",
   "id": "e168c33a-f239-4795-a7fa-4af80e6af6df",
   "metadata": {},
   "source": [
    "# Introduction to Pandas\n",
    "Panda is a library in python that is used for manipulating tables.\n",
    "\n",
    "It has two basic data structures:\n",
    "- Series\n",
    "- Data"
   ]
  },
  {
   "cell_type": "markdown",
   "id": "45e8f3a1-3fca-407f-8e8f-2f4262a254b7",
   "metadata": {},
   "source": [
    "## Using Series: An Indexed 1D Array"
   ]
  },
  {
   "cell_type": "code",
   "execution_count": 9,
   "id": "acb7d9fa-aa88-49c1-9d2b-fe875984e0de",
   "metadata": {},
   "outputs": [
    {
     "name": "stdout",
     "output_type": "stream",
     "text": [
      "0    0.25\n",
      "1    0.50\n",
      "2    0.75\n",
      "3    1.00\n",
      "dtype: float64\n"
     ]
    }
   ],
   "source": [
    "import pandas as pd\n",
    "data = pd.Series([0.25, 0.5, 0.75, 1.0])\n",
    "print(data)"
   ]
  },
  {
   "cell_type": "markdown",
   "id": "87b2f2f5-ef8e-4c8b-9e02-c9ac337daee7",
   "metadata": {},
   "source": [
    "The pandas automatically assigns index to the data."
   ]
  },
  {
   "cell_type": "markdown",
   "id": "ede706d8-c3dc-472d-931e-0b443cc91931",
   "metadata": {},
   "source": [
    "**Explicit:**\n",
    "\n",
    "Note that you can also create your own index. This you **explicitly** creating your series"
   ]
  },
  {
   "cell_type": "code",
   "execution_count": 10,
   "id": "301cc716-11d8-4e50-bdf8-96e66d5b03c6",
   "metadata": {},
   "outputs": [
    {
     "name": "stdout",
     "output_type": "stream",
     "text": [
      "a    0.25\n",
      "b    0.50\n",
      "c    0.75\n",
      "d    1.00\n",
      "dtype: float64\n"
     ]
    }
   ],
   "source": [
    "data = pd.Series([0.25, 0.5, 0.75, 1.0], index = ['a', 'b', 'c', 'd'])\n",
    "print(data)"
   ]
  },
  {
   "cell_type": "markdown",
   "id": "5a59523a-67df-49d8-91f7-3f3b598c3038",
   "metadata": {},
   "source": [
    "### Accessing Data"
   ]
  },
  {
   "cell_type": "markdown",
   "id": "f64286b2-fe3d-405d-8abd-710e187e75cd",
   "metadata": {},
   "source": [
    "you can access data using the customized index you created"
   ]
  },
  {
   "cell_type": "code",
   "execution_count": 11,
   "id": "e7927af1-9c86-48f6-8cc8-5af9c2438aa5",
   "metadata": {},
   "outputs": [
    {
     "name": "stdout",
     "output_type": "stream",
     "text": [
      "0.5\n"
     ]
    }
   ],
   "source": [
    "print(data['b'])"
   ]
  },
  {
   "cell_type": "markdown",
   "id": "c87ce96b-4e22-4e70-aac9-eb36399772ff",
   "metadata": {},
   "source": [
    "### Series as a Dictionary"
   ]
  },
  {
   "cell_type": "markdown",
   "id": "10e4b2f6-d92f-44d6-882c-aa06cdfc4ab4",
   "metadata": {},
   "source": [
    "Series could also work as a dictionary"
   ]
  },
  {
   "cell_type": "code",
   "execution_count": 19,
   "id": "4d357bb7-114a-42db-bc21-90fb51ce96cd",
   "metadata": {},
   "outputs": [
    {
     "name": "stdout",
     "output_type": "stream",
     "text": [
      "California     38332521\n",
      "Texas          25645675\n",
      "New Jersey    453564996\n",
      "dtype: int64\n"
     ]
    }
   ],
   "source": [
    "population_dict = {\"California\" : 38332521, \"Texas\" : 25645675, \"New Jersey\" : 453564996}\n",
    "population = pd.Series(population_dict)\n",
    "print(population)"
   ]
  },
  {
   "cell_type": "markdown",
   "id": "98123904-35c7-4a50-a3b0-3fa2ffcf1b3d",
   "metadata": {},
   "source": [
    "The states (the keys) from the dictionary acts as the indexes"
   ]
  },
  {
   "cell_type": "markdown",
   "id": "5f77ae67-7469-4f8c-b71a-0b5ca0e785eb",
   "metadata": {},
   "source": [
    "Accessing a data, say california for instance, we'd have:"
   ]
  },
  {
   "cell_type": "code",
   "execution_count": 20,
   "id": "b79766cd-58ad-4c86-94e0-4aeb45e878d9",
   "metadata": {},
   "outputs": [
    {
     "name": "stdout",
     "output_type": "stream",
     "text": [
      "38332521\n"
     ]
    }
   ],
   "source": [
    "print(population[\"California\"])"
   ]
  }
 ],
 "metadata": {
  "kernelspec": {
   "display_name": "Python 3 (ipykernel)",
   "language": "python",
   "name": "python3"
  },
  "language_info": {
   "codemirror_mode": {
    "name": "ipython",
    "version": 3
   },
   "file_extension": ".py",
   "mimetype": "text/x-python",
   "name": "python",
   "nbconvert_exporter": "python",
   "pygments_lexer": "ipython3",
   "version": "3.11.7"
  }
 },
 "nbformat": 4,
 "nbformat_minor": 5
}
