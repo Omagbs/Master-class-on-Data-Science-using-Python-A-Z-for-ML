{
 "cells": [
  {
   "cell_type": "markdown",
   "id": "3b236bbd-991e-4531-b25e-90011ff83316",
   "metadata": {},
   "source": [
    "# DataFrame Access using Row-wise and Column-wise"
   ]
  },
  {
   "cell_type": "markdown",
   "id": "8af99a91-a53c-4214-973e-e319eedb45cd",
   "metadata": {},
   "source": [
    "## Accessing the data row-wise\n",
    "To Access the data row-wise, we use the **iterrows()** to iterate through the elements with for loop"
   ]
  },
  {
   "cell_type": "code",
   "execution_count": 9,
   "id": "8f317092-b717-471f-9ab0-5e60512ff532",
   "metadata": {},
   "outputs": [
    {
     "name": "stdout",
     "output_type": "stream",
     "text": [
      "\n",
      " Row index is:  0\n",
      "\n",
      " Row value is:  Name       Clark\n",
      "Surname     Kent\n",
      "Name: 0, dtype: object\n",
      "\n",
      " Row index is:  1\n",
      "\n",
      " Row value is:  Name       Bruce\n",
      "Surname    Wayne\n",
      "Name: 1, dtype: object\n",
      "\n",
      " Row index is:  2\n",
      "\n",
      " Row value is:  Name       Barry\n",
      "Surname    Allen\n",
      "Name: 2, dtype: object\n"
     ]
    }
   ],
   "source": [
    "import pandas as pd\n",
    "\n",
    "l = [{\"Name\" : \"Clark\", \"Surname\" : \"Kent\"}, {\"Name\" : \"Bruce\", \"Surname\" : \"Wayne\"}, {\"Name\" : \"Barry\", \"Surname\" : \"Allen\"}]\n",
    "df = pd.DataFrame(l)\n",
    "for (row_index, row_value) in df.iterrows():\n",
    "    print(\"\\n Row index is: \", row_index)\n",
    "    print(\"\\n Row value is: \", row_value)"
   ]
  },
  {
   "cell_type": "markdown",
   "id": "834e83b4-5e94-4132-b320-064ff190db42",
   "metadata": {},
   "source": [
    "## Accessing the data column-wise\n",
    "To access the data column-wise, We use **items()** — previoulsy **iteritems()** — to iterate through the elements using for loop"
   ]
  },
  {
   "cell_type": "code",
   "execution_count": 11,
   "id": "e1723013-a9b4-4344-963f-ca5b7ab89d27",
   "metadata": {},
   "outputs": [
    {
     "name": "stdout",
     "output_type": "stream",
     "text": [
      "\n",
      " Column index is:  Name\n",
      "\n",
      " Colunm value is:  0    Clark\n",
      "1    Bruce\n",
      "2    Barry\n",
      "Name: Name, dtype: object\n",
      "\n",
      " Column index is:  Surname\n",
      "\n",
      " Colunm value is:  0     Kent\n",
      "1    Wayne\n",
      "2    Allen\n",
      "Name: Surname, dtype: object\n"
     ]
    }
   ],
   "source": [
    "for (column_index, column_value) in df.items():\n",
    "    print(\"\\n Column index is: \", column_index)\n",
    "    print(\"\\n Colunm value is: \", column_value)"
   ]
  },
  {
   "cell_type": "code",
   "execution_count": null,
   "id": "e344c454-5daf-44ce-9b26-da7a95c4e526",
   "metadata": {},
   "outputs": [],
   "source": []
  }
 ],
 "metadata": {
  "kernelspec": {
   "display_name": "Python 3 (ipykernel)",
   "language": "python",
   "name": "python3"
  },
  "language_info": {
   "codemirror_mode": {
    "name": "ipython",
    "version": 3
   },
   "file_extension": ".py",
   "mimetype": "text/x-python",
   "name": "python",
   "nbconvert_exporter": "python",
   "pygments_lexer": "ipython3",
   "version": "3.11.7"
  }
 },
 "nbformat": 4,
 "nbformat_minor": 5
}
