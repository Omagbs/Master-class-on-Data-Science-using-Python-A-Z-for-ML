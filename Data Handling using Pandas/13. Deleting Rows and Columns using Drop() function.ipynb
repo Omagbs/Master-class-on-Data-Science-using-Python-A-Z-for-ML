{
 "cells": [
  {
   "cell_type": "markdown",
   "id": "33b2ef81-879c-41a9-8ae4-c31a4a0362d3",
   "metadata": {},
   "source": [
    "# Deleting Rows and Columns using Drop() function\n",
    "Rows and columns can be deleted using the **drop()**"
   ]
  },
  {
   "cell_type": "code",
   "execution_count": 1,
   "id": "22cfd7cc-2f46-4fe4-8a40-5a6481c654c6",
   "metadata": {},
   "outputs": [
    {
     "name": "stdout",
     "output_type": "stream",
     "text": [
      "   list1  list2  list3\n",
      "0     20     20     40\n",
      "1     30     30     60\n",
      "2     22     40     62\n",
      "3     50     50    100\n",
      "4     60     60    120\n"
     ]
    }
   ],
   "source": [
    "import pandas as pd\n",
    "\n",
    "s = pd.Series([20, 30, 22, 50, 60])\n",
    "df = pd.DataFrame(s)\n",
    "df.columns = [\"list1\"]\n",
    "df[\"list2\"] = 20, 30, 40, 50, 60\n",
    "df[\"list3\"] = df[\"list1\"] + df[\"list2\"]\n",
    "print(df)"
   ]
  },
  {
   "cell_type": "markdown",
   "id": "f3a5ddf1-a05c-4647-a509-65e0368a5403",
   "metadata": {},
   "source": [
    "## Using Drop()\n",
    "The **Drop()** is capable of deleting rows or columns"
   ]
  },
  {
   "cell_type": "markdown",
   "id": "1ea3c118-2b1b-4229-898e-bf0ed579a48a",
   "metadata": {},
   "source": [
    "### Deleting Colums\n",
    "To delete columns, the **axis = 1**"
   ]
  },
  {
   "cell_type": "code",
   "execution_count": 3,
   "id": "fd60fb97-029f-4b43-b57a-b5219b8f53fd",
   "metadata": {},
   "outputs": [
    {
     "name": "stdout",
     "output_type": "stream",
     "text": [
      "   list2  list3\n",
      "0     20     40\n",
      "1     30     60\n",
      "2     40     62\n",
      "3     50    100\n",
      "4     60    120\n"
     ]
    }
   ],
   "source": [
    "df1 = df.drop('list1', axis = 1)\n",
    "print(df1)"
   ]
  },
  {
   "cell_type": "markdown",
   "id": "a7d8f800-890f-4531-8332-fb7078098ebc",
   "metadata": {},
   "source": [
    "### Deleting Rows\n",
    "To delete rows, the **axis = 0** The index can also be selected. "
   ]
  },
  {
   "cell_type": "code",
   "execution_count": 13,
   "id": "03a4321c-dd62-4d50-8076-e86737c77e51",
   "metadata": {},
   "outputs": [
    {
     "name": "stdout",
     "output_type": "stream",
     "text": [
      "   list1  list2  list3\n",
      "0     20     20     40\n",
      "1     30     30     60\n",
      "3     50     50    100\n",
      "4     60     60    120\n"
     ]
    }
   ],
   "source": [
    "df2 = df.drop(index=[2, axis = 0)\n",
    "print(df2)"
   ]
  },
  {
   "cell_type": "code",
   "execution_count": null,
   "id": "0c4d4c59-2416-430f-92f3-1c198b8815bb",
   "metadata": {},
   "outputs": [],
   "source": []
  }
 ],
 "metadata": {
  "kernelspec": {
   "display_name": "Python 3 (ipykernel)",
   "language": "python",
   "name": "python3"
  },
  "language_info": {
   "codemirror_mode": {
    "name": "ipython",
    "version": 3
   },
   "file_extension": ".py",
   "mimetype": "text/x-python",
   "name": "python",
   "nbconvert_exporter": "python",
   "pygments_lexer": "ipython3",
   "version": "3.11.7"
  }
 },
 "nbformat": 4,
 "nbformat_minor": 5
}
