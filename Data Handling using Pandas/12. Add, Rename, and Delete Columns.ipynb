{
 "cells": [
  {
   "cell_type": "markdown",
   "id": "442542f4-12ab-4a63-803f-f583c3d0c7be",
   "metadata": {},
   "source": [
    "## Add, Rename, and Delete Columns"
   ]
  },
  {
   "cell_type": "code",
   "execution_count": 16,
   "id": "2126e2d1-1d7f-4050-994b-989706ef9386",
   "metadata": {},
   "outputs": [
    {
     "name": "stdout",
     "output_type": "stream",
     "text": [
      "    0\n",
      "0  20\n",
      "1  30\n",
      "2  22\n",
      "3  50\n",
      "4  60\n"
     ]
    }
   ],
   "source": [
    "import pandas as pd\n",
    "\n",
    "s = pd.Series([20, 30, 22, 50, 60])\n",
    "df = pd.DataFrame(s)\n",
    "print(df)"
   ]
  },
  {
   "cell_type": "markdown",
   "id": "ee7fe435-0015-4476-b86a-c140cb20ce58",
   "metadata": {},
   "source": [
    "To name the column...."
   ]
  },
  {
   "cell_type": "code",
   "execution_count": 18,
   "id": "9ba527b6-577f-4a4b-9397-41e236ee03d8",
   "metadata": {},
   "outputs": [
    {
     "name": "stdout",
     "output_type": "stream",
     "text": [
      "   list1\n",
      "0     20\n",
      "1     30\n",
      "2     22\n",
      "3     50\n",
      "4     60\n"
     ]
    }
   ],
   "source": [
    "df.columns = [\"list1\"]\n",
    "print(df)"
   ]
  },
  {
   "cell_type": "markdown",
   "id": "336821be-5450-4f36-94f5-fe57f8cbdaec",
   "metadata": {},
   "source": [
    "To create another column..."
   ]
  },
  {
   "cell_type": "code",
   "execution_count": 20,
   "id": "4610a15c-7b0e-4a02-b639-968a011c7cce",
   "metadata": {},
   "outputs": [
    {
     "name": "stdout",
     "output_type": "stream",
     "text": [
      "   list1  list2\n",
      "0     20     20\n",
      "1     30     30\n",
      "2     22     40\n",
      "3     50     50\n",
      "4     60     60\n"
     ]
    }
   ],
   "source": [
    "df[\"list2\"] = 20, 30, 40, 50, 60\n",
    "print(df)"
   ]
  },
  {
   "cell_type": "code",
   "execution_count": 21,
   "id": "f60e677a-db8b-41ad-93e3-9e06b07f3523",
   "metadata": {},
   "outputs": [
    {
     "name": "stdout",
     "output_type": "stream",
     "text": [
      "   list1  list2  list3\n",
      "0     20     20     40\n",
      "1     30     30     60\n",
      "2     22     40     62\n",
      "3     50     50    100\n",
      "4     60     60    120\n"
     ]
    }
   ],
   "source": [
    "df[\"list3\"] = df[\"list1\"] + df[\"list2\"]\n",
    "print(df)"
   ]
  },
  {
   "cell_type": "markdown",
   "id": "09094dad-945e-4281-b700-7ee28586770b",
   "metadata": {},
   "source": [
    "To delete we use **del** or **pop()**..."
   ]
  },
  {
   "cell_type": "code",
   "execution_count": 23,
   "id": "659179f5-52e7-4810-8eb9-ad8e019f446d",
   "metadata": {},
   "outputs": [
    {
     "name": "stdout",
     "output_type": "stream",
     "text": [
      "   list1  list2\n",
      "0     20     20\n",
      "1     30     30\n",
      "2     22     40\n",
      "3     50     50\n",
      "4     60     60\n"
     ]
    }
   ],
   "source": [
    "del df[\"list3\"]\n",
    "print(df)"
   ]
  },
  {
   "cell_type": "code",
   "execution_count": 24,
   "id": "97765605-45c7-4e16-b84c-3f40333de120",
   "metadata": {},
   "outputs": [
    {
     "name": "stdout",
     "output_type": "stream",
     "text": [
      "   list1\n",
      "0     20\n",
      "1     30\n",
      "2     22\n",
      "3     50\n",
      "4     60\n"
     ]
    }
   ],
   "source": [
    "df.pop(\"list2\")\n",
    "print(df)"
   ]
  },
  {
   "cell_type": "code",
   "execution_count": null,
   "id": "953fea7e-5480-4ba3-9b1d-81006bfb4bc1",
   "metadata": {},
   "outputs": [],
   "source": []
  }
 ],
 "metadata": {
  "kernelspec": {
   "display_name": "Python 3 (ipykernel)",
   "language": "python",
   "name": "python3"
  },
  "language_info": {
   "codemirror_mode": {
    "name": "ipython",
    "version": 3
   },
   "file_extension": ".py",
   "mimetype": "text/x-python",
   "name": "python",
   "nbconvert_exporter": "python",
   "pygments_lexer": "ipython3",
   "version": "3.11.7"
  }
 },
 "nbformat": 4,
 "nbformat_minor": 5
}
