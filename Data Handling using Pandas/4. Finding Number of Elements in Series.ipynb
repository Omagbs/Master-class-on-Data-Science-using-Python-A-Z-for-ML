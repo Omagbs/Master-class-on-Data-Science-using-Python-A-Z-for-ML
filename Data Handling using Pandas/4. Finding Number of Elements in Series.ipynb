{
 "cells": [
  {
   "cell_type": "markdown",
   "id": "cd4b6837-2c7e-4d70-8dd0-5a56b21490be",
   "metadata": {},
   "source": [
    "# Finding Number of Elements in Series"
   ]
  },
  {
   "cell_type": "markdown",
   "id": "4058cc19-4d53-4a26-8bb8-05848c2bba4a",
   "metadata": {},
   "source": [
    "To find the number of elements in a series you use the **size** in-built function"
   ]
  },
  {
   "cell_type": "code",
   "execution_count": 4,
   "id": "01304897-6c82-4139-a184-1bfc92b3817f",
   "metadata": {},
   "outputs": [
    {
     "name": "stdout",
     "output_type": "stream",
     "text": [
      "The size of the series s is:  5\n"
     ]
    }
   ],
   "source": [
    "import pandas as pd\n",
    "s = pd.Series([10, 20, 30, 40, 50])\n",
    "print(\"The size of the series s is: \", s.size)"
   ]
  }
 ],
 "metadata": {
  "kernelspec": {
   "display_name": "Python 3 (ipykernel)",
   "language": "python",
   "name": "python3"
  },
  "language_info": {
   "codemirror_mode": {
    "name": "ipython",
    "version": 3
   },
   "file_extension": ".py",
   "mimetype": "text/x-python",
   "name": "python",
   "nbconvert_exporter": "python",
   "pygments_lexer": "ipython3",
   "version": "3.11.7"
  }
 },
 "nbformat": 4,
 "nbformat_minor": 5
}
