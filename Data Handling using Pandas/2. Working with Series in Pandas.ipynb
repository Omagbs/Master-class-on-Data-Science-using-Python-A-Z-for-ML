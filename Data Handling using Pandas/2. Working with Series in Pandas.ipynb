{
 "cells": [
  {
   "cell_type": "markdown",
   "id": "5481feeb-6a63-4598-8227-1e2c2619dc74",
   "metadata": {},
   "source": [
    "# Working with Series in Pandas"
   ]
  },
  {
   "cell_type": "code",
   "execution_count": 1,
   "id": "d554033c-2b27-4566-bcfa-7a57b0b08943",
   "metadata": {},
   "outputs": [
    {
     "name": "stdout",
     "output_type": "stream",
     "text": [
      "0    10\n",
      "1    20\n",
      "2    30\n",
      "3    40\n",
      "dtype: int64\n"
     ]
    }
   ],
   "source": [
    "import pandas as pd\n",
    "s1 = pd.Series([10, 20, 30, 40])\n",
    "print(s1)"
   ]
  },
  {
   "cell_type": "code",
   "execution_count": 2,
   "id": "77a7737c-4cb1-4332-8605-c81a49d949e5",
   "metadata": {},
   "outputs": [
    {
     "name": "stdout",
     "output_type": "stream",
     "text": [
      "0    1.24\n",
      "1    2.43\n",
      "2    1.22\n",
      "3    5.67\n",
      "4    7.89\n",
      "dtype: float64\n"
     ]
    }
   ],
   "source": [
    "s2 = pd.Series([1.24, 2.43, 1.22, 5.67, 7.89])\n",
    "print(s2)"
   ]
  },
  {
   "cell_type": "markdown",
   "id": "ccab8fa0-05fb-4cd1-afc2-4446e6d25865",
   "metadata": {},
   "source": [
    "Customizing the index:"
   ]
  },
  {
   "cell_type": "code",
   "execution_count": 4,
   "id": "5c2c7424-75cd-4826-901e-7fa5cf07963c",
   "metadata": {},
   "outputs": [
    {
     "name": "stdout",
     "output_type": "stream",
     "text": [
      "a    1.24\n",
      "b    2.43\n",
      "c    1.22\n",
      "d    5.67\n",
      "e    7.89\n",
      "dtype: float64\n"
     ]
    }
   ],
   "source": [
    "s2 = pd.Series([1.24, 2.43, 1.22, 5.67, 7.89], index = ['a', 'b', 'c', 'd', 'e'])\n",
    "print(s2)"
   ]
  },
  {
   "cell_type": "markdown",
   "id": "1c593e4d-d328-4854-9919-b44bbc2ea248",
   "metadata": {},
   "source": [
    "## Accessing Elements"
   ]
  },
  {
   "cell_type": "markdown",
   "id": "85251761-582f-4ef3-a479-e78da9038b04",
   "metadata": {},
   "source": [
    "### Non customized index"
   ]
  },
  {
   "cell_type": "code",
   "execution_count": 8,
   "id": "63bdfc38-2ef0-496e-87b5-a737237ce9a7",
   "metadata": {},
   "outputs": [
    {
     "name": "stdout",
     "output_type": "stream",
     "text": [
      "1.22\n"
     ]
    },
    {
     "name": "stderr",
     "output_type": "stream",
     "text": [
      "C:\\Users\\MSI\\AppData\\Local\\Temp\\ipykernel_568\\1300205721.py:1: FutureWarning: Series.__getitem__ treating keys as positions is deprecated. In a future version, integer keys will always be treated as labels (consistent with DataFrame behavior). To access a value by position, use `ser.iloc[pos]`\n",
      "  print(s2[2])\n"
     ]
    }
   ],
   "source": [
    "print(s2[2])"
   ]
  },
  {
   "cell_type": "markdown",
   "id": "9bf5de46-acaa-46cf-b58c-6bc3fab13d5b",
   "metadata": {},
   "source": [
    "### Customized index"
   ]
  },
  {
   "cell_type": "code",
   "execution_count": 9,
   "id": "f1852602-0a9c-4e04-a152-74536626443a",
   "metadata": {},
   "outputs": [
    {
     "name": "stdout",
     "output_type": "stream",
     "text": [
      "1.22\n"
     ]
    }
   ],
   "source": [
    "print(s2['c'])"
   ]
  },
  {
   "cell_type": "markdown",
   "id": "c86cc035-4825-4610-9d54-153256406a40",
   "metadata": {},
   "source": [
    "### Printing all"
   ]
  },
  {
   "cell_type": "code",
   "execution_count": 10,
   "id": "6f842ed2-bcac-4510-bcfd-8ef13eb05d91",
   "metadata": {},
   "outputs": [
    {
     "name": "stdout",
     "output_type": "stream",
     "text": [
      "0    10\n",
      "1    20\n",
      "2    30\n",
      "3    40\n",
      "dtype: int64\n",
      "a    1.24\n",
      "b    2.43\n",
      "c    1.22\n",
      "d    5.67\n",
      "e    7.89\n",
      "dtype: float64\n"
     ]
    }
   ],
   "source": [
    "print(s1)\n",
    "print(s2)"
   ]
  },
  {
   "cell_type": "markdown",
   "id": "cb6f30f3-5acf-4ed3-a425-7b3f7406dfc9",
   "metadata": {},
   "source": [
    "### Modifying\n",
    "lets add 5 to s1 and see what happens"
   ]
  },
  {
   "cell_type": "code",
   "execution_count": 11,
   "id": "1af87229-ceab-4ae0-a1a6-bc355eeece09",
   "metadata": {},
   "outputs": [
    {
     "name": "stdout",
     "output_type": "stream",
     "text": [
      "0    15\n",
      "1    25\n",
      "2    35\n",
      "3    45\n",
      "dtype: int64\n"
     ]
    }
   ],
   "source": [
    "s3 = s1 + 5\n",
    "print(s3)"
   ]
  },
  {
   "cell_type": "markdown",
   "id": "d9f04246-3d2e-4814-9e48-d69d84757197",
   "metadata": {},
   "source": [
    "5 is added to all the elements"
   ]
  },
  {
   "cell_type": "markdown",
   "id": "a1b9bdd0-0951-4ea8-9678-61314e097a48",
   "metadata": {},
   "source": [
    "### Filtering"
   ]
  },
  {
   "cell_type": "markdown",
   "id": "d72dd086-40f7-4b14-8fbf-ede9cb45fa62",
   "metadata": {},
   "source": [
    "Filtering is also possible when using Series in Pandas"
   ]
  },
  {
   "cell_type": "markdown",
   "id": "d11b8ab5-496a-48dd-989a-214aaf9cc245",
   "metadata": {},
   "source": [
    "So if I want to create an indexed array of elements greater than 2 from s2, I can just filter..."
   ]
  },
  {
   "cell_type": "code",
   "execution_count": 13,
   "id": "35d35f18-d4f6-499d-8a6a-dd3bf27b15ad",
   "metadata": {},
   "outputs": [
    {
     "name": "stdout",
     "output_type": "stream",
     "text": [
      "b    2.43\n",
      "d    5.67\n",
      "e    7.89\n",
      "dtype: float64\n"
     ]
    }
   ],
   "source": [
    "s4 = s2[s2 > 2]\n",
    "print(s4)"
   ]
  }
 ],
 "metadata": {
  "kernelspec": {
   "display_name": "Python 3 (ipykernel)",
   "language": "python",
   "name": "python3"
  },
  "language_info": {
   "codemirror_mode": {
    "name": "ipython",
    "version": 3
   },
   "file_extension": ".py",
   "mimetype": "text/x-python",
   "name": "python",
   "nbconvert_exporter": "python",
   "pygments_lexer": "ipython3",
   "version": "3.11.7"
  }
 },
 "nbformat": 4,
 "nbformat_minor": 5
}
