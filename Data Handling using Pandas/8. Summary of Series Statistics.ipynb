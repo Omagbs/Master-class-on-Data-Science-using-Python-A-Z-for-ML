{
 "cells": [
  {
   "cell_type": "markdown",
   "id": "398c6dff-82ff-4c87-91fe-45aca07b019e",
   "metadata": {},
   "source": [
    "# Summary of Series Statistics\n",
    "\n",
    "The **describe()** function is used to show the summary or characteristics of a series"
   ]
  },
  {
   "cell_type": "code",
   "execution_count": 1,
   "id": "f5bb53e3-3d1f-40b2-97f7-53e88af3ba96",
   "metadata": {},
   "outputs": [
    {
     "name": "stdout",
     "output_type": "stream",
     "text": [
      "count     19.000000\n",
      "mean      60.263158\n",
      "std       61.720555\n",
      "min       10.000000\n",
      "25%       29.000000\n",
      "50%       39.000000\n",
      "75%       84.500000\n",
      "max      289.000000\n",
      "dtype: float64\n"
     ]
    }
   ],
   "source": [
    "import pandas as pd\n",
    "s1 = pd.Series([10, 20, 30, 30, 40, 60, 85, 46, 84, 289, 38, 94, 90, 85, 28, 39, 19, 19, 39])\n",
    "print(s1.describe())"
   ]
  },
  {
   "cell_type": "code",
   "execution_count": null,
   "id": "961249bc-e215-40d7-bc54-e97322d31b39",
   "metadata": {},
   "outputs": [],
   "source": []
  }
 ],
 "metadata": {
  "kernelspec": {
   "display_name": "Python 3 (ipykernel)",
   "language": "python",
   "name": "python3"
  },
  "language_info": {
   "codemirror_mode": {
    "name": "ipython",
    "version": 3
   },
   "file_extension": ".py",
   "mimetype": "text/x-python",
   "name": "python",
   "nbconvert_exporter": "python",
   "pygments_lexer": "ipython3",
   "version": "3.11.7"
  }
 },
 "nbformat": 4,
 "nbformat_minor": 5
}
