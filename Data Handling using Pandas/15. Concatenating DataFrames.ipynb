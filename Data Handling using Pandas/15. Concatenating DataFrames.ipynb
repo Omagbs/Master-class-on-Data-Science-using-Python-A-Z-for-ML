{
 "cells": [
  {
   "cell_type": "markdown",
   "id": "b67e2826-05eb-4403-ac63-b782889ebe94",
   "metadata": {},
   "source": [
    "# Concatenating DataFrames\n",
    "Data frames can be concatenated using the **concat()**"
   ]
  },
  {
   "cell_type": "code",
   "execution_count": 3,
   "id": "8a0a6ddc-6176-4d86-9750-a0da99047ddf",
   "metadata": {},
   "outputs": [],
   "source": [
    "import pandas as pd\n",
    "\n",
    "dict1 = {'ID' : [0o7, 47, 0o1], 'Name' : ['James Bond', 'Hitman', 'President']}\n",
    "df1 = pd.DataFrame(dict1)\n",
    "dict2 = {'ID' : [24, 911], 'Name' : ['Jack Bauer', 'PoPo']}\n",
    "df2 = pd.DataFrame(dict2)"
   ]
  },
  {
   "cell_type": "markdown",
   "id": "e4d66eeb-a553-4e3c-a71b-2454030e089b",
   "metadata": {},
   "source": [
    "### To Concatenate..."
   ]
  },
  {
   "cell_type": "code",
   "execution_count": 4,
   "id": "ad5b3d3c-70a0-4171-a404-4aef1a73d4f9",
   "metadata": {},
   "outputs": [
    {
     "name": "stdout",
     "output_type": "stream",
     "text": [
      "    ID        Name\n",
      "0    7  James Bond\n",
      "1   47      Hitman\n",
      "2    1   President\n",
      "0   24  Jack Bauer\n",
      "1  911        PoPo\n"
     ]
    }
   ],
   "source": [
    "df3 = pd.concat([df1, df2])\n",
    "print(df3)"
   ]
  },
  {
   "cell_type": "code",
   "execution_count": null,
   "id": "08b2d6ca-3222-4c2d-9489-08833781fa76",
   "metadata": {},
   "outputs": [],
   "source": []
  }
 ],
 "metadata": {
  "kernelspec": {
   "display_name": "Python 3 (ipykernel)",
   "language": "python",
   "name": "python3"
  },
  "language_info": {
   "codemirror_mode": {
    "name": "ipython",
    "version": 3
   },
   "file_extension": ".py",
   "mimetype": "text/x-python",
   "name": "python",
   "nbconvert_exporter": "python",
   "pygments_lexer": "ipython3",
   "version": "3.11.7"
  }
 },
 "nbformat": 4,
 "nbformat_minor": 5
}
