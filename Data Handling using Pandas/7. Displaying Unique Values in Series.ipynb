{
 "cells": [
  {
   "cell_type": "markdown",
   "id": "7aa07ad3-f69f-49e1-ac33-7916cb03ab40",
   "metadata": {},
   "source": [
    "# Displaying Unique Values in Series\n",
    "The **unique()** can be used to display the unique element in a series"
   ]
  },
  {
   "cell_type": "code",
   "execution_count": 3,
   "id": "3b82b0b5-eeef-450b-aa06-a8dd42957711",
   "metadata": {},
   "outputs": [
    {
     "name": "stdout",
     "output_type": "stream",
     "text": [
      "The unique values are:  [ 2  3  6  7 90 80]\n"
     ]
    }
   ],
   "source": [
    "import pandas as pd\n",
    "s1 = pd.Series([2, 3, 6, 6, 6, 7, 90, 80, 80, 90, 2, 3])\n",
    "print(\"The unique values are: \", s1.unique())"
   ]
  },
  {
   "cell_type": "markdown",
   "id": "1c33fe95-6356-477f-b0ce-36f4de79c8f4",
   "metadata": {},
   "source": [
    "We can also count the number of unique elements in a series using the **nunique()** function. It helps by thinking of it as N -- as in number of -- unique elements"
   ]
  },
  {
   "cell_type": "code",
   "execution_count": 4,
   "id": "a8776cb2-9f67-4fb6-a332-98a5ab2b64f7",
   "metadata": {},
   "outputs": [
    {
     "name": "stdout",
     "output_type": "stream",
     "text": [
      "The number of unique elements in s1 is:  6\n"
     ]
    }
   ],
   "source": [
    "print(\"The number of unique elements in s1 is: \", s1.nunique())"
   ]
  }
 ],
 "metadata": {
  "kernelspec": {
   "display_name": "Python 3 (ipykernel)",
   "language": "python",
   "name": "python3"
  },
  "language_info": {
   "codemirror_mode": {
    "name": "ipython",
    "version": 3
   },
   "file_extension": ".py",
   "mimetype": "text/x-python",
   "name": "python",
   "nbconvert_exporter": "python",
   "pygments_lexer": "ipython3",
   "version": "3.11.7"
  }
 },
 "nbformat": 4,
 "nbformat_minor": 5
}
