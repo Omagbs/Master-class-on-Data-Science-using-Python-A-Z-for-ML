{
 "cells": [
  {
   "cell_type": "markdown",
   "id": "6a5aeb8b-5981-40be-99a7-c86905973a8d",
   "metadata": {},
   "source": [
    "# Creating Dataframe from Series"
   ]
  },
  {
   "cell_type": "code",
   "execution_count": 4,
   "id": "ab036a4f-2c39-4ce2-956f-11cd81fe0c20",
   "metadata": {},
   "outputs": [
    {
     "name": "stdout",
     "output_type": "stream",
     "text": [
      "Empty DataFrame\n",
      "Columns: []\n",
      "Index: []\n"
     ]
    }
   ],
   "source": [
    "# Creating an empty data frame\n",
    "import pandas as pd\n",
    "df = pd.DataFrame()\n",
    "print(df)"
   ]
  },
  {
   "cell_type": "code",
   "execution_count": 5,
   "id": "67782fd9-87d2-4d7a-9e43-4b7d63f89b4c",
   "metadata": {},
   "outputs": [
    {
     "name": "stdout",
     "output_type": "stream",
     "text": [
      "    0\n",
      "0  20\n",
      "1  21\n",
      "2  56\n",
      "3  67\n",
      "4  86\n",
      "5  90\n"
     ]
    }
   ],
   "source": [
    "s = pd.Series([20, 21, 56, 67, 86, 90])\n",
    "df = pd.DataFrame(s)\n",
    "print(df)"
   ]
  },
  {
   "cell_type": "markdown",
   "id": "e9227332-b99a-49e1-bca5-722f3f156b0f",
   "metadata": {},
   "source": [
    "As we can see, the Dataframe creates the data like a table and assigns an automatic index and also gives the column an automatic title \"0\""
   ]
  },
  {
   "cell_type": "markdown",
   "id": "85e5cb6e-7131-49df-8708-3edfd8ba46a3",
   "metadata": {},
   "source": [
    "## Using Dictionary to Create Columns"
   ]
  },
  {
   "cell_type": "code",
   "execution_count": 21,
   "id": "68b353ce-5d76-4c08-9bf8-fb6976dfbb21",
   "metadata": {},
   "outputs": [
    {
     "name": "stdout",
     "output_type": "stream",
     "text": [
      "      Name Ratings\n",
      "0    Messi      97\n",
      "1  Ronaldo      94\n"
     ]
    }
   ],
   "source": [
    "name = pd.Series([\"Messi\", \"Ronaldo\"])\n",
    "ratings = pd.Series([\"97\", \"94\"])\n",
    "\n",
    "dic = {'Name' : name, 'Ratings' : ratings}\n",
    "new_df = pd.DataFrame(dic)\n",
    "print(new_df)"
   ]
  },
  {
   "cell_type": "code",
   "execution_count": null,
   "id": "ad099094-bd97-4b61-ac2d-ecdd36f5b7d0",
   "metadata": {},
   "outputs": [],
   "source": []
  }
 ],
 "metadata": {
  "kernelspec": {
   "display_name": "Python 3 (ipykernel)",
   "language": "python",
   "name": "python3"
  },
  "language_info": {
   "codemirror_mode": {
    "name": "ipython",
    "version": 3
   },
   "file_extension": ".py",
   "mimetype": "text/x-python",
   "name": "python",
   "nbconvert_exporter": "python",
   "pygments_lexer": "ipython3",
   "version": "3.11.7"
  }
 },
 "nbformat": 4,
 "nbformat_minor": 5
}
