{
 "cells": [
  {
   "cell_type": "markdown",
   "id": "f677aa59-2568-4502-a7e2-1e1142ed9906",
   "metadata": {},
   "source": [
    "# Combining Series with Numpy"
   ]
  },
  {
   "cell_type": "markdown",
   "id": "6abfae62-0d3a-4f00-a9d5-489aee502a56",
   "metadata": {},
   "source": [
    "Series can also be combined with Numpy"
   ]
  },
  {
   "cell_type": "code",
   "execution_count": 2,
   "id": "e0dc6a19-202f-41ed-9650-13b72ae44ac3",
   "metadata": {},
   "outputs": [
    {
     "name": "stdout",
     "output_type": "stream",
     "text": [
      "[10 20 30 40]\n",
      "0    10\n",
      "1    20\n",
      "2    30\n",
      "3    40\n",
      "dtype: int32\n"
     ]
    }
   ],
   "source": [
    "import numpy as np\n",
    "import pandas as pd\n",
    "\n",
    "arr = np.array([10, 20, 30, 40])\n",
    "s = pd.Series(arr)\n",
    "print(arr)\n",
    "print(s)"
   ]
  },
  {
   "cell_type": "markdown",
   "id": "4f3f108f-bf7c-4076-b309-797ed1629d8c",
   "metadata": {},
   "source": [
    "The series prints the array out with index"
   ]
  },
  {
   "cell_type": "markdown",
   "id": "d9d3d04c-405f-4bf6-93ab-5e69d3c4d91d",
   "metadata": {},
   "source": [
    "You can also perform an operation on an index array using numpy in series, like this:"
   ]
  },
  {
   "cell_type": "code",
   "execution_count": 5,
   "id": "3f41bc95-ce3c-4ead-be8d-974a08419d7c",
   "metadata": {},
   "outputs": [
    {
     "name": "stdout",
     "output_type": "stream",
     "text": [
      "0    3.162278\n",
      "1    4.472136\n",
      "2    5.477226\n",
      "3    6.324555\n",
      "dtype: float64\n"
     ]
    }
   ],
   "source": [
    "t = np.sqrt(s)\n",
    "print(t)"
   ]
  },
  {
   "cell_type": "markdown",
   "id": "eff8031f-98af-4b03-b597-260b202f19ee",
   "metadata": {},
   "source": [
    "Now, Using numpy to create customized array and feeding it to series"
   ]
  },
  {
   "cell_type": "code",
   "execution_count": 7,
   "id": "0543b0b2-e75d-42f0-adef-2935e00c8e96",
   "metadata": {},
   "outputs": [
    {
     "name": "stdout",
     "output_type": "stream",
     "text": [
      "a     5\n",
      "b    10\n",
      "c    15\n",
      "d    20\n",
      "dtype: int32\n"
     ]
    }
   ],
   "source": [
    "index_arr = np.array(['a', 'b', 'c', 'd'])\n",
    "arr1 = np.array([5, 10, 15, 20])\n",
    "s1 = pd.Series(arr1, index = index_arr)\n",
    "print(s1)"
   ]
  },
  {
   "cell_type": "code",
   "execution_count": null,
   "id": "aac69e87-321a-440e-a467-9c248564f250",
   "metadata": {},
   "outputs": [],
   "source": []
  }
 ],
 "metadata": {
  "kernelspec": {
   "display_name": "Python 3 (ipykernel)",
   "language": "python",
   "name": "python3"
  },
  "language_info": {
   "codemirror_mode": {
    "name": "ipython",
    "version": 3
   },
   "file_extension": ".py",
   "mimetype": "text/x-python",
   "name": "python",
   "nbconvert_exporter": "python",
   "pygments_lexer": "ipython3",
   "version": "3.11.7"
  }
 },
 "nbformat": 4,
 "nbformat_minor": 5
}
