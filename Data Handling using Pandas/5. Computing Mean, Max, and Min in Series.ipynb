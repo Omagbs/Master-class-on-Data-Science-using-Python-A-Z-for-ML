{
 "cells": [
  {
   "cell_type": "markdown",
   "id": "9d55d3aa-5ff7-4781-b983-3abd4111f48b",
   "metadata": {},
   "source": [
    "# Computing Mean, Max, and Min in Series"
   ]
  },
  {
   "cell_type": "code",
   "execution_count": 2,
   "id": "e8e89289-f4dd-4066-bdb1-5a6e6f422eca",
   "metadata": {},
   "outputs": [
    {
     "name": "stdout",
     "output_type": "stream",
     "text": [
      "The mean of the series is:  56.888888888888886\n",
      "The max of the series is:  99\n",
      "The min of the series is:  10\n"
     ]
    }
   ],
   "source": [
    "import pandas as pd\n",
    "s1 = pd.Series([12, 10, 30, 50, 89, 56, 77, 89, 99])\n",
    "print(\"The mean of the series is: \", s1.mean())\n",
    "print(\"The max of the series is: \", s1.max())\n",
    "print(\"The min of the series is: \", s1.min())"
   ]
  },
  {
   "cell_type": "code",
   "execution_count": null,
   "id": "c17f47de-4ad4-45f1-894c-3935c3fa6ed8",
   "metadata": {},
   "outputs": [],
   "source": []
  }
 ],
 "metadata": {
  "kernelspec": {
   "display_name": "Python 3 (ipykernel)",
   "language": "python",
   "name": "python3"
  },
  "language_info": {
   "codemirror_mode": {
    "name": "ipython",
    "version": 3
   },
   "file_extension": ".py",
   "mimetype": "text/x-python",
   "name": "python",
   "nbconvert_exporter": "python",
   "pygments_lexer": "ipython3",
   "version": "3.11.7"
  }
 },
 "nbformat": 4,
 "nbformat_minor": 5
}
