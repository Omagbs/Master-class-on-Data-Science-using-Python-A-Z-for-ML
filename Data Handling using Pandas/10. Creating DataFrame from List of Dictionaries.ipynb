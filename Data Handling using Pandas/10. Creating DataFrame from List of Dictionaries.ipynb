{
 "cells": [
  {
   "cell_type": "markdown",
   "id": "637a903f-4bfd-4649-a4f7-51b245ffde9c",
   "metadata": {},
   "source": [
    "# Creating DataFrame from List of Dictionaries\n",
    "Dataframe can be created from list of dictionaries"
   ]
  },
  {
   "cell_type": "code",
   "execution_count": 2,
   "id": "fa3e0f8d-f384-4589-888f-bceda1456bdc",
   "metadata": {},
   "outputs": [
    {
     "name": "stdout",
     "output_type": "stream",
     "text": [
      "    Name Surname\n",
      "0  Clark    Kent\n",
      "1  Bruce   Wayne\n",
      "2  Barry   Allen\n"
     ]
    }
   ],
   "source": [
    "import pandas as pd\n",
    "\n",
    "l = [{\"Name\" : \"Clark\", \"Surname\" : \"Kent\"}, {\"Name\" : \"Bruce\", \"Surname\" : \"Wayne\"}, {\"Name\" : \"Barry\", \"Surname\" : \"Allen\"}]\n",
    "df = pd.DataFrame(l)\n",
    "print(df)"
   ]
  }
 ],
 "metadata": {
  "kernelspec": {
   "display_name": "Python 3 (ipykernel)",
   "language": "python",
   "name": "python3"
  },
  "language_info": {
   "codemirror_mode": {
    "name": "ipython",
    "version": 3
   },
   "file_extension": ".py",
   "mimetype": "text/x-python",
   "name": "python",
   "nbconvert_exporter": "python",
   "pygments_lexer": "ipython3",
   "version": "3.11.7"
  }
 },
 "nbformat": 4,
 "nbformat_minor": 5
}
