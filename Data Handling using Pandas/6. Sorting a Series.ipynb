{
 "cells": [
  {
   "cell_type": "markdown",
   "id": "5af106ab-f827-44d5-90f9-bfb795a864a2",
   "metadata": {},
   "source": [
    "# Sorting a Series\n",
    "This simply involves rearranging the elements in accending order. We use the **sort_values()** function for sorting"
   ]
  },
  {
   "cell_type": "code",
   "execution_count": 3,
   "id": "1ca16beb-c17c-4b8a-b48c-037cf26051aa",
   "metadata": {},
   "outputs": [
    {
     "name": "stdout",
     "output_type": "stream",
     "text": [
      "the series before sorting:  0     20\n",
      "1     23\n",
      "2     67\n",
      "3      9\n",
      "4      6\n",
      "5      3\n",
      "6     78\n",
      "7     89\n",
      "8      9\n",
      "9      1\n",
      "10    45\n",
      "11     2\n",
      "12     4\n",
      "13     6\n",
      "14     7\n",
      "15    89\n",
      "dtype: int64\n",
      "the series after sorting:  9      1\n",
      "11     2\n",
      "5      3\n",
      "12     4\n",
      "4      6\n",
      "13     6\n",
      "14     7\n",
      "3      9\n",
      "8      9\n",
      "0     20\n",
      "1     23\n",
      "10    45\n",
      "2     67\n",
      "6     78\n",
      "7     89\n",
      "15    89\n",
      "dtype: int64\n"
     ]
    }
   ],
   "source": [
    "import pandas as pd\n",
    "s1 = pd.Series([20, 23, 67, 9, 6, 3, 78, 89, 9, 1, 45, 2, 4, 6, 7, 89])\n",
    "print(\"the series before sorting: \", s1)\n",
    "print(\"the series after sorting: \", s1.sort_values())"
   ]
  },
  {
   "cell_type": "code",
   "execution_count": null,
   "id": "776f6b2a-69e3-4664-9394-28e46e6d7aa4",
   "metadata": {},
   "outputs": [],
   "source": []
  }
 ],
 "metadata": {
  "kernelspec": {
   "display_name": "Python 3 (ipykernel)",
   "language": "python",
   "name": "python3"
  },
  "language_info": {
   "codemirror_mode": {
    "name": "ipython",
    "version": 3
   },
   "file_extension": ".py",
   "mimetype": "text/x-python",
   "name": "python",
   "nbconvert_exporter": "python",
   "pygments_lexer": "ipython3",
   "version": "3.11.7"
  }
 },
 "nbformat": 4,
 "nbformat_minor": 5
}
