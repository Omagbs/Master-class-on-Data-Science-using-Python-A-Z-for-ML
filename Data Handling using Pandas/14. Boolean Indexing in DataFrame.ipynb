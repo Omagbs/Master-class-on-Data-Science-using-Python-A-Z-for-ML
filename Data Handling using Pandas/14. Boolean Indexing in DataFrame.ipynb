{
 "cells": [
  {
   "cell_type": "markdown",
   "id": "b4560c2a-9550-4443-8f5f-c0d4b70dfd5a",
   "metadata": {},
   "source": [
    "# Boolean Indexing in DataFrame"
   ]
  },
  {
   "cell_type": "code",
   "execution_count": 3,
   "id": "dfc25597-a4bb-45f1-b1fc-05094024b22f",
   "metadata": {},
   "outputs": [
    {
     "name": "stdout",
     "output_type": "stream",
     "text": [
      "         Name  World Cup\n",
      "0  Ronaldinho          1\n",
      "1       Messi          1\n",
      "2        Pele          4\n"
     ]
    }
   ],
   "source": [
    "import pandas as pd\n",
    "dic = {'Name' : ['Ronaldinho', 'Messi', 'Pele'], 'World Cup' : [1, 1, 4]}\n",
    "df = pd.DataFrame(dic)\n",
    "print(df)"
   ]
  },
  {
   "cell_type": "markdown",
   "id": "180ce5de-9188-4c21-85f3-71ceafc99a0f",
   "metadata": {},
   "source": [
    "### Using Boolean index..."
   ]
  },
  {
   "cell_type": "code",
   "execution_count": 5,
   "id": "632c91e2-bf86-4fc1-8209-c1ad7d9113ec",
   "metadata": {},
   "outputs": [
    {
     "name": "stdout",
     "output_type": "stream",
     "text": [
      "             Name  World Cup\n",
      "True   Ronaldinho          1\n",
      "True        Messi          1\n",
      "False        Pele          4\n"
     ]
    }
   ],
   "source": [
    "df = pd.DataFrame(dic, index = [True, True, False])\n",
    "print(df)"
   ]
  },
  {
   "cell_type": "markdown",
   "id": "068ef2a0-50d5-4919-88d8-c69f9447f99e",
   "metadata": {},
   "source": [
    "### Displaying only the rows with true index"
   ]
  },
  {
   "cell_type": "code",
   "execution_count": 7,
   "id": "b4d11123-b11f-432e-ac49-463cb4a5fb42",
   "metadata": {},
   "outputs": [
    {
     "name": "stdout",
     "output_type": "stream",
     "text": [
      "            Name  World Cup\n",
      "True  Ronaldinho          1\n",
      "True       Messi          1\n"
     ]
    }
   ],
   "source": [
    "print(df.loc[True])"
   ]
  },
  {
   "cell_type": "markdown",
   "id": "dc67b873-906e-4608-9ddf-691ee254fbe6",
   "metadata": {},
   "source": [
    "### Displaying only the rows with false index"
   ]
  },
  {
   "cell_type": "code",
   "execution_count": 9,
   "id": "cc625569-223d-4c39-a569-4f3cf75e8fcb",
   "metadata": {},
   "outputs": [
    {
     "name": "stdout",
     "output_type": "stream",
     "text": [
      "Name         Pele\n",
      "World Cup       4\n",
      "Name: False, dtype: object\n"
     ]
    }
   ],
   "source": [
    "print(df.loc[False])"
   ]
  },
  {
   "cell_type": "code",
   "execution_count": null,
   "id": "a6c4578e-ae05-4758-ba7c-60b2a8b630e0",
   "metadata": {},
   "outputs": [],
   "source": []
  }
 ],
 "metadata": {
  "kernelspec": {
   "display_name": "Python 3 (ipykernel)",
   "language": "python",
   "name": "python3"
  },
  "language_info": {
   "codemirror_mode": {
    "name": "ipython",
    "version": 3
   },
   "file_extension": ".py",
   "mimetype": "text/x-python",
   "name": "python",
   "nbconvert_exporter": "python",
   "pygments_lexer": "ipython3",
   "version": "3.11.7"
  }
 },
 "nbformat": 4,
 "nbformat_minor": 5
}
