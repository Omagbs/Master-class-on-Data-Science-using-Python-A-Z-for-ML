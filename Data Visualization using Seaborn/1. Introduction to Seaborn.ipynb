{
 "cells": [
  {
   "cell_type": "markdown",
   "id": "be914497-f0eb-4dd5-9160-a0d96fb47aa7",
   "metadata": {},
   "source": [
    "# Introduction to Seaborn\n",
    "Seaborn:\n",
    "- is a python visualiztion library based on matplotlib\n",
    "- provides a high-level interface for drawing attractive and informative statistical graphics"
   ]
  },
  {
   "cell_type": "markdown",
   "id": "c05d38da-349c-4d89-a867-bc94b100dac6",
   "metadata": {},
   "source": [
    "### To import:"
   ]
  },
  {
   "cell_type": "code",
   "execution_count": 5,
   "id": "44e5f32b-f012-460c-a31a-382bbf59181d",
   "metadata": {},
   "outputs": [],
   "source": [
    "import pandas as pd\n",
    "import numpy as numpy\n",
    "import matplotlib.pyplot as plt\n",
    "import seaborn\n",
    "#%matplotlib inline"
   ]
  },
  {
   "cell_type": "markdown",
   "id": "0bfb857d-e3af-4e31-a39a-f7458a2e03db",
   "metadata": {},
   "source": [
    "### To load dataset into dataframe:\n",
    "You use the **seaborn.load_dataset()** and store it in a dataframe.\n",
    "Also, note that: to use this function, you have to be actively connected to a network"
   ]
  },
  {
   "cell_type": "code",
   "execution_count": 7,
   "id": "fca84141-7f89-4dea-a6b5-3e80411e3026",
   "metadata": {},
   "outputs": [],
   "source": [
    "df = seaborn.load_dataset(\"tips\")"
   ]
  },
  {
   "cell_type": "markdown",
   "id": "71b7eb0a-a9c8-4c85-8646-a80dea4996ff",
   "metadata": {},
   "source": [
    "### To see the first 5 rows of the entire dataset:\n",
    "You use the **df.head()** function"
   ]
  },
  {
   "cell_type": "code",
   "execution_count": 8,
   "id": "67fe6478-71bd-42e1-9084-ce04608afc4a",
   "metadata": {},
   "outputs": [
    {
     "name": "stdout",
     "output_type": "stream",
     "text": [
      "   total_bill   tip     sex smoker  day    time  size\n",
      "0       16.99  1.01  Female     No  Sun  Dinner     2\n",
      "1       10.34  1.66    Male     No  Sun  Dinner     3\n",
      "2       21.01  3.50    Male     No  Sun  Dinner     3\n",
      "3       23.68  3.31    Male     No  Sun  Dinner     2\n",
      "4       24.59  3.61  Female     No  Sun  Dinner     4\n"
     ]
    }
   ],
   "source": [
    "print(df.head())"
   ]
  },
  {
   "cell_type": "markdown",
   "id": "88ccfbfd-6781-415a-a976-6ac65183044b",
   "metadata": {},
   "source": [
    "## To print the last 5 rows of the entire dataset:\n",
    "You use the **df.tail()** function"
   ]
  },
  {
   "cell_type": "code",
   "execution_count": 10,
   "id": "aab58707-ce2b-4e03-997a-057cbc7113fa",
   "metadata": {},
   "outputs": [
    {
     "name": "stdout",
     "output_type": "stream",
     "text": [
      "     total_bill   tip     sex smoker   day    time  size\n",
      "239       29.03  5.92    Male     No   Sat  Dinner     3\n",
      "240       27.18  2.00  Female    Yes   Sat  Dinner     2\n",
      "241       22.67  2.00    Male    Yes   Sat  Dinner     2\n",
      "242       17.82  1.75    Male     No   Sat  Dinner     2\n",
      "243       18.78  3.00  Female     No  Thur  Dinner     2\n"
     ]
    }
   ],
   "source": [
    "print(df.tail())"
   ]
  },
  {
   "cell_type": "code",
   "execution_count": null,
   "id": "c686c844-94d3-4194-a5fc-d1fc8162f4f8",
   "metadata": {},
   "outputs": [],
   "source": []
  }
 ],
 "metadata": {
  "kernelspec": {
   "display_name": "Python 3 (ipykernel)",
   "language": "python",
   "name": "python3"
  },
  "language_info": {
   "codemirror_mode": {
    "name": "ipython",
    "version": 3
   },
   "file_extension": ".py",
   "mimetype": "text/x-python",
   "name": "python",
   "nbconvert_exporter": "python",
   "pygments_lexer": "ipython3",
   "version": "3.11.7"
  }
 },
 "nbformat": 4,
 "nbformat_minor": 5
}
