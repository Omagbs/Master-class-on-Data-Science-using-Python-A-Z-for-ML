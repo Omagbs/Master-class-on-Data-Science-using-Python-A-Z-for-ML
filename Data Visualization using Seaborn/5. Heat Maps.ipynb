{
 "cells": [
  {
   "cell_type": "markdown",
   "id": "ea8ff133-cb2b-4033-a044-cde7e93bbc9e",
   "metadata": {},
   "source": [
    "# Heat Maps\n",
    "- Heat map is defined as a graphical representation of data using colours to the visualaize the value of the matrix\n",
    "- Heat maps in seaborn can be plotted by using **seaborn.heatmap()** function"
   ]
  },
  {
   "cell_type": "markdown",
   "id": "5acbe9e2-e1a8-4c64-82b3-c74cbae2ba5a",
   "metadata": {},
   "source": [
    "### Importing the required libraries"
   ]
  },
  {
   "cell_type": "code",
   "execution_count": 1,
   "id": "867d2c82-95bf-447f-bbc3-d0703662afda",
   "metadata": {},
   "outputs": [],
   "source": [
    "import numpy as np\n",
    "import seaborn as sns\n",
    "import matplotlib.pyplot as plt\n",
    "import pandas as pd"
   ]
  },
  {
   "cell_type": "markdown",
   "id": "4b6fcb98-4d7b-4247-b317-1ee458f5d0d1",
   "metadata": {},
   "source": [
    "### Creating random data in a matrix"
   ]
  },
  {
   "cell_type": "code",
   "execution_count": 2,
   "id": "8aa6fe47-d72b-40a9-95a6-76b6a4bdf257",
   "metadata": {},
   "outputs": [
    {
     "name": "stdout",
     "output_type": "stream",
     "text": [
      "[[0.82133695 0.18800469 0.76111015]\n",
      " [0.27810948 0.81835561 0.34326111]\n",
      " [0.5193411  0.65491539 0.41824681]\n",
      " [0.94410803 0.08211417 0.09162847]\n",
      " [0.90341438 0.03387327 0.57363399]]\n"
     ]
    }
   ],
   "source": [
    "uniform_data = np.random.rand(5, 3)\n",
    "# five rows, 3 columns\n",
    "print(uniform_data)"
   ]
  },
  {
   "cell_type": "markdown",
   "id": "4603d933-356b-44ee-a536-f30fd1ebd1b3",
   "metadata": {},
   "source": [
    "With the use of HeatMap representing the uniform_data created rabdomly, graphically, we'd have different colours assigned to the values. "
   ]
  },
  {
   "cell_type": "code",
   "execution_count": 3,
   "id": "dd7a8645-5f4d-4f37-8352-3984d964394f",
   "metadata": {},
   "outputs": [
    {
     "data": {
      "image/png": "[encoded data removed]",
      "text/plain": [
       "<Figure size 640x480 with 2 Axes>"
      ]
     },
     "metadata": {},
     "output_type": "display_data"
    }
   ],
   "source": [
    "sns.heatmap(uniform_data)\n",
    "plt.show()"
   ]
  },
  {
   "cell_type": "code",
   "execution_count": null,
   "id": "d55c7f8d-0b08-4367-860f-3a1622e3b1bb",
   "metadata": {},
   "outputs": [],
   "source": []
  }
 ],
 "metadata": {
  "kernelspec": {
   "display_name": "Python 3 (ipykernel)",
   "language": "python",
   "name": "python3"
  },
  "language_info": {
   "codemirror_mode": {
    "name": "ipython",
    "version": 3
   },
   "file_extension": ".py",
   "mimetype": "text/x-python",
   "name": "python",
   "nbconvert_exporter": "python",
   "pygments_lexer": "ipython3",
   "version": "3.11.7"
  }
 },
 "nbformat": 4,
 "nbformat_minor": 5
}
