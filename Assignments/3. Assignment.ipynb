{
 "cells": [
  {
   "cell_type": "markdown",
   "id": "97646914-1e88-4f15-b507-90440cc75d42",
   "metadata": {},
   "source": [
    "### Question \n",
    "Write a NumPy program that creates a 5x5 identity matrix and replaces the diagonal elements with random integers between 0 and 9."
   ]
  },
  {
   "cell_type": "markdown",
   "id": "8697aa9d-38f4-4036-ad80-2f3cdec02925",
   "metadata": {},
   "source": [
    "### Answer:"
   ]
  },
  {
   "cell_type": "code",
   "execution_count": 10,
   "id": "fb3f3459-a51d-44bd-9017-af8d2e2bee4a",
   "metadata": {},
   "outputs": [
    {
     "name": "stdout",
     "output_type": "stream",
     "text": [
      "[[1. 0. 0. 0. 0.]\n",
      " [0. 2. 0. 0. 0.]\n",
      " [0. 0. 4. 0. 0.]\n",
      " [0. 0. 0. 4. 0.]\n",
      " [0. 0. 0. 0. 9.]]\n"
     ]
    }
   ],
   "source": [
    "import numpy as np\n",
    "\n",
    "# creates an identity 5x5 matrix \n",
    "arr1 = np.eye(5)\n",
    "\n",
    "# creates a 5*5 array with random integer between 0 and 9\n",
    "arr2 = np.random.randint(0, 10, size=(5, 5))\n",
    "\n",
    "# multiplies both array to replace diagonal elements with random integer between 0 and 9\n",
    "result = arr1*arr2\n",
    "print(result)"
   ]
  },
  {
   "cell_type": "markdown",
   "id": "fa9ad8f1-694b-4f65-ad1b-ebdf1bb7616a",
   "metadata": {},
   "source": [
    "The above was my method, now trying the **tutor's method**"
   ]
  },
  {
   "cell_type": "code",
   "execution_count": 12,
   "id": "79587df4-2324-4497-a668-4c1e5ac7e348",
   "metadata": {},
   "outputs": [
    {
     "name": "stdout",
     "output_type": "stream",
     "text": [
      "Modified matrix:\n",
      " [[1. 0. 0. 0. 0.]\n",
      " [0. 0. 0. 0. 0.]\n",
      " [0. 0. 4. 0. 0.]\n",
      " [0. 0. 0. 8. 0.]\n",
      " [0. 0. 0. 0. 2.]]\n"
     ]
    }
   ],
   "source": [
    "matrix = np.eye(5)\n",
    "random_numbers = np.random.randint(0, 10, size=(5,5))\n",
    "\n",
    "# replace the diagonal elements of the identity matrix with the random integers\n",
    "np.fill_diagonal(matrix, random_numbers)\n",
    "print(\"Modified matrix:\\n\", matrix)"
   ]
  },
  {
   "cell_type": "code",
   "execution_count": null,
   "id": "c0ba20f1-731c-4d9e-bc31-ae9e86752903",
   "metadata": {},
   "outputs": [],
   "source": []
  }
 ],
 "metadata": {
  "kernelspec": {
   "display_name": "Python 3 (ipykernel)",
   "language": "python",
   "name": "python3"
  },
  "language_info": {
   "codemirror_mode": {
    "name": "ipython",
    "version": 3
   },
   "file_extension": ".py",
   "mimetype": "text/x-python",
   "name": "python",
   "nbconvert_exporter": "python",
   "pygments_lexer": "ipython3",
   "version": "3.11.7"
  }
 },
 "nbformat": 4,
 "nbformat_minor": 5
}
