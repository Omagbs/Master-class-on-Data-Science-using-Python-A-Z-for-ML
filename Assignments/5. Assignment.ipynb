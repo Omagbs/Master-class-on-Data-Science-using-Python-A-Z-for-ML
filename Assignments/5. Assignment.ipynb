{
 "cells": [
  {
   "cell_type": "markdown",
   "id": "a1468860-7d14-4133-85a0-9d01d3d42131",
   "metadata": {},
   "source": [
    "### Question:\n",
    "Write a NumPy program that reads a CSV file containing data about a group of students (ID, name, grade) and computes the average grade for each student.\n",
    "\n",
    "Create the CSV file with the following data :\n",
    "\n",
    "ID,Name,Grade\n",
    "\n",
    "1,Alice,90\n",
    "\n",
    "2,Bob,85\n",
    "\n",
    "3,Charlie,75\n",
    "\n",
    "4,Dave,95\n",
    "\n",
    "5,Eve,80"
   ]
  },
  {
   "cell_type": "markdown",
   "id": "73dc3633-c138-42df-8fe5-849d4a694266",
   "metadata": {},
   "source": [
    "### Answer:"
   ]
  },
  {
   "cell_type": "code",
   "execution_count": 7,
   "id": "5c25afec-9cd6-4210-82cf-a305fe611952",
   "metadata": {},
   "outputs": [
    {
     "name": "stdout",
     "output_type": "stream",
     "text": [
      "Student 1 : 90.0\n",
      "Student 2 : 85.0\n",
      "Student 3 : 75.0\n",
      "Student 4 : 95.0\n",
      "Student 5 : 80.0\n"
     ]
    }
   ],
   "source": [
    "import numpy as np\n",
    "\n",
    "data = np.genfromtxt('Students.csv', delimiter =',', skip_header=True, dtype=[('ID','i4'), ('Name', 'U10'), ('Grade','f4')])\n",
    "\n",
    "ids=np.unique(data['ID'])\n",
    "\n",
    "for id in ids:\n",
    "    grades = data[data['ID']==id]['Grade']\n",
    "    avg_grade = np.mean(grades)\n",
    "    print('Student', id, ':', avg_grade)\n",
    "    \n"
   ]
  },
  {
   "cell_type": "markdown",
   "id": "3d54853e-58f3-4df8-bad3-fa8f641ae32d",
   "metadata": {},
   "source": [
    "### An example of someone else using pandas:"
   ]
  },
  {
   "cell_type": "code",
   "execution_count": 8,
   "id": "92ad8ace-1fa2-411a-af12-9cc0210960f3",
   "metadata": {},
   "outputs": [
    {
     "name": "stdout",
     "output_type": "stream",
     "text": [
      "Average grade for all students: 85.0\n"
     ]
    }
   ],
   "source": [
    "import pandas as pd\n",
    "\n",
    "\n",
    "\n",
    "# Read the CSV file into a DataFrame\n",
    "\n",
    "df = pd.read_csv('Students.csv')\n",
    "\n",
    "\n",
    "\n",
    "# Extract grades column\n",
    "\n",
    "grades = df['Grade'].values\n",
    "\n",
    "\n",
    "\n",
    "# Compute the average grade\n",
    "\n",
    "average_grade = np.mean(grades)\n",
    "\n",
    "\n",
    "\n",
    "print(\"Average grade for all students:\", average_grade)"
   ]
  },
  {
   "cell_type": "code",
   "execution_count": null,
   "id": "d9a57a01-01bc-48d6-ae91-29396485dcd9",
   "metadata": {},
   "outputs": [],
   "source": []
  }
 ],
 "metadata": {
  "kernelspec": {
   "display_name": "Python 3 (ipykernel)",
   "language": "python",
   "name": "python3"
  },
  "language_info": {
   "codemirror_mode": {
    "name": "ipython",
    "version": 3
   },
   "file_extension": ".py",
   "mimetype": "text/x-python",
   "name": "python",
   "nbconvert_exporter": "python",
   "pygments_lexer": "ipython3",
   "version": "3.11.7"
  }
 },
 "nbformat": 4,
 "nbformat_minor": 5
}
