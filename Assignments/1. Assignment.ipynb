{
 "cells": [
  {
   "cell_type": "markdown",
   "id": "dcb08a24-04f4-4d2e-8b10-ed63d7002301",
   "metadata": {},
   "source": [
    "## Question\n",
    "\n",
    "Write a NumPy program that creates a 3x3 matrix of random integers between 0 and 9 and prints the maximum and minimum values of the matrix."
   ]
  },
  {
   "cell_type": "markdown",
   "id": "cf7f57b7-0a1e-40c4-a292-8fc088609725",
   "metadata": {},
   "source": [
    "## Answer:"
   ]
  },
  {
   "cell_type": "code",
   "execution_count": 26,
   "id": "33c94fe3-e88f-4265-a8b8-461813475d58",
   "metadata": {},
   "outputs": [
    {
     "name": "stdout",
     "output_type": "stream",
     "text": [
      "[[4 4 5]\n",
      " [6 1 1]\n",
      " [6 4 7]]\n"
     ]
    }
   ],
   "source": [
    "import numpy as np\n",
    "\n",
    "arr = np.random.randint(0, 10, size = (3,3))\n",
    "print(arr)"
   ]
  },
  {
   "cell_type": "markdown",
   "id": "c4ee4ba7-5266-40e0-9246-572a22036362",
   "metadata": {},
   "source": [
    "So, in the **random.randint(**the range of the number you wish to generate,** **size = (Array size)**)**"
   ]
  },
  {
   "cell_type": "markdown",
   "id": "8cb1bfef-f15c-4de5-b24a-e1a199d2f643",
   "metadata": {},
   "source": [
    "### To print Max:"
   ]
  },
  {
   "cell_type": "markdown",
   "id": "00e9de8a-269c-4ba3-ac9f-fabafbc9a555",
   "metadata": {},
   "source": [
    "We can use the **np.max()** function to find the maximum value in a given array"
   ]
  },
  {
   "cell_type": "code",
   "execution_count": 27,
   "id": "1de95e96-ebdc-48ab-9360-abc15f4267c6",
   "metadata": {},
   "outputs": [
    {
     "name": "stdout",
     "output_type": "stream",
     "text": [
      "7\n"
     ]
    }
   ],
   "source": [
    "max = np.max(arr)\n",
    "print(max)"
   ]
  },
  {
   "cell_type": "markdown",
   "id": "32fc7603-e001-4f12-b386-5e3389b0f5fb",
   "metadata": {},
   "source": [
    "### To print Min:\n",
    "We can use the **np.min()** fucntion to find the minimum value in a given array"
   ]
  },
  {
   "cell_type": "code",
   "execution_count": 28,
   "id": "369f2bd8-ab66-46ef-b9da-e000a4354d8c",
   "metadata": {},
   "outputs": [
    {
     "name": "stdout",
     "output_type": "stream",
     "text": [
      "1\n"
     ]
    }
   ],
   "source": [
    "min = np.min(arr)\n",
    "print(min)"
   ]
  },
  {
   "cell_type": "code",
   "execution_count": null,
   "id": "57fb9a3e-1634-4ac2-bfab-c1cf0ace4de3",
   "metadata": {},
   "outputs": [],
   "source": []
  }
 ],
 "metadata": {
  "kernelspec": {
   "display_name": "Python 3 (ipykernel)",
   "language": "python",
   "name": "python3"
  },
  "language_info": {
   "codemirror_mode": {
    "name": "ipython",
    "version": 3
   },
   "file_extension": ".py",
   "mimetype": "text/x-python",
   "name": "python",
   "nbconvert_exporter": "python",
   "pygments_lexer": "ipython3",
   "version": "3.11.7"
  }
 },
 "nbformat": 4,
 "nbformat_minor": 5
}
