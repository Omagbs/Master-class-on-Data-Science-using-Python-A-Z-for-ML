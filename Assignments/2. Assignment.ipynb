{
 "cells": [
  {
   "cell_type": "markdown",
   "id": "de5be3ec-d5ad-4215-bc66-d9f92e6f0e17",
   "metadata": {},
   "source": [
    "### Question:\n",
    "Write a NumPy function that accepts two 1-D arrays of equal length and returns a new array containing the product of the corresponding elements in the input arrays."
   ]
  },
  {
   "cell_type": "markdown",
   "id": "c95ac4d9-9c0a-4423-a0bb-580e725414c4",
   "metadata": {},
   "source": [
    "### Answer:"
   ]
  },
  {
   "cell_type": "code",
   "execution_count": 13,
   "id": "2555fc7c-88c5-4761-8a2d-8844dbad5c30",
   "metadata": {},
   "outputs": [
    {
     "name": "stdout",
     "output_type": "stream",
     "text": [
      "[ 8 15 21]\n"
     ]
    }
   ],
   "source": [
    "import numpy as np\n",
    "\n",
    "def mul_arr(x, y):\n",
    "    # check the number of dimension of the array\n",
    "    if (x.ndim == 1 and y.ndim == 1):\n",
    "        # to check the if the arrays have equal length\n",
    "        if (x.size == y.size):\n",
    "            product = x * y\n",
    "            return product\n",
    "        else:\n",
    "            return (\"Error: Make sure the array are 1D and equal sizes\")\n",
    "\n",
    "# sample arrays\n",
    "arr1 = np.array([2, 3, 3])\n",
    "arr2 = np.array([4, 5, 7])\n",
    "\n",
    "print(mul_arr(arr1, arr2))"
   ]
  },
  {
   "cell_type": "code",
   "execution_count": null,
   "id": "36ef7839-ff7a-44a4-9731-cfa0c83b3a45",
   "metadata": {},
   "outputs": [],
   "source": []
  }
 ],
 "metadata": {
  "kernelspec": {
   "display_name": "Python 3 (ipykernel)",
   "language": "python",
   "name": "python3"
  },
  "language_info": {
   "codemirror_mode": {
    "name": "ipython",
    "version": 3
   },
   "file_extension": ".py",
   "mimetype": "text/x-python",
   "name": "python",
   "nbconvert_exporter": "python",
   "pygments_lexer": "ipython3",
   "version": "3.11.7"
  }
 },
 "nbformat": 4,
 "nbformat_minor": 5
}
